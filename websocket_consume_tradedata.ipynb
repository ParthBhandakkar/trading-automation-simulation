{
 "cells": [
  {
   "cell_type": "code",
   "execution_count": null,
   "id": "89a84e2b-aaa6-4c59-966e-8f8c31df23c9",
   "metadata": {},
   "outputs": [
    {
     "name": "stdout",
     "output_type": "stream",
     "text": [
      "Received message: Connected to WebSocket Server. Listening for Kafka messages...\n",
      "Received message: {\"userId\":12345,\"tradingId\":\"98765\",\"tradingAmount\":1000.5,\"stroke\":\"up\",\"expiry\":\"2024-09-21T12:30:00Z\"}\n",
      "Received message: {\"userId\":12345,\"tradingId\":\"98765\",\"tradingAmount\":1000.5,\"stroke\":\"up\",\"expiry\":\"2024-09-21T12:30:00Z\"}\n",
      "Received message: {\"userId\":12345,\"tradingId\":\"98765\",\"tradingAmount\":1000.5,\"stroke\":\"down\",\"expiry\":\"2024-09-21T12:30:00Z\"}\n",
      "Received message: {\"userId\":12345,\"tradingId\":\"98765\",\"tradingAmount\":1000.5,\"stroke\":\"up\",\"expiry\":\"2024-09-21T12:30:00Z\"}\n",
      "Received message: {\"userId\":12345,\"tradingId\":\"98765\",\"tradingAmount\":1000.5,\"stroke\":\"down\",\"expiry\":\"2024-09-21T12:30:00Z\"}\n",
      "Received message: {\"userId\":12345,\"tradingId\":\"98765\",\"tradingAmount\":1000.5,\"stroke\":\"up\",\"expiry\":\"2024-09-21T12:30:00Z\"}\n",
      "Received message: {\"userId\":12345,\"tradingId\":\"98765\",\"tradingAmount\":1000.5,\"stroke\":\"down\",\"expiry\":\"2024-09-21T12:30:00Z\"}\n"
     ]
    }
   ],
   "source": [
    "import asyncio\n",
    "import websockets\n",
    "import nest_asyncio\n",
    "\n",
    "# Apply nested event loop fix (since you're in Jupyter)\n",
    "nest_asyncio.apply()\n",
    "\n",
    "async def receive_data():\n",
    "    uri = \" wss://urchin-app-qbexb.ondigitalocean.app\"  # Replace with your WebSocket URI\n",
    "\n",
    "    async with websockets.connect(uri) as websocket:\n",
    "        while True:\n",
    "            try:\n",
    "                message = await websocket.recv()\n",
    "                print(f\"Received message: {message}\")\n",
    "            except websockets.ConnectionClosed:\n",
    "                print(\"Connection closed\")\n",
    "                break\n",
    "\n",
    "# Run the receive function\n",
    "asyncio.get_event_loop().run_until_complete(receive_data())"
   ]
  },
  {
   "cell_type": "code",
   "execution_count": null,
   "id": "f5f1debf-8f19-48cb-9555-e85f054df8bf",
   "metadata": {},
   "outputs": [],
   "source": [
    "import asyncio\n",
    "import websockets\n",
    "import nest_asyncio\n",
    "import json\n",
    "from influxdb_client import InfluxDBClient, Point\n",
    "from influxdb_client.client.write_api import SYNCHRONOUS\n",
    "\n",
    "# Apply nested event loop fix (for Jupyter Notebooks)\n",
    "nest_asyncio.apply()\n",
    "\n",
    "# InfluxDB connection settings\n",
    "influxdb_url = \"http://165.232.189.85:8086\"  # Replace with your InfluxDB URL\n",
    "influxdb_token = \"0gq5Zcx7QWiDS4fdnurUyPUOXCiJK0_wBfH0Psx20zpYZji6ESmmvtunIWLDDBaXJ5zQ16m8AfoOkW2LvmjdQQ==\"  # Replace with your InfluxDB token\n",
    "influxdb_org = \"Devnullx\"  # Replace with your InfluxDB organization\n",
    "influxdb_bucket = \"order_trade_data\"  # Replace with your InfluxDB bucket\n",
    "# Create InfluxDB client\n",
    "client = InfluxDBClient(url=influxdb_url, token=influxdb_token, org=influxdb_org)\n",
    "write_api = client.write_api(write_options=SYNCHRONOUS)\n",
    "\n",
    "async def receive_data():\n",
    "    uri = \"wss://urchin-app-qbexb.ondigitalocean.app\"  # Replace with your WebSocket URI\n",
    "\n",
    "    async with websockets.connect(uri) as websocket:\n",
    "        while True:\n",
    "            try:\n",
    "                # Receive a message from the WebSocket server\n",
    "                message = await websocket.recv()\n",
    "                print(f\"Received message: {message}\")\n",
    "\n",
    "                # Try to parse the message as JSON\n",
    "                try:\n",
    "                    data = json.loads(message)\n",
    "\n",
    "                    # Check if the expected keys are present in the JSON\n",
    "                    if all(key in data for key in ('userId', 'tradingId', 'tradingAmount', 'stroke', 'expiry')):\n",
    "                        # Prepare the data for InfluxDB\n",
    "                        point = Point(\"trading_data\") \\\n",
    "                            .tag(\"userId\", data['userId']) \\\n",
    "                            .tag(\"tradingId\", data['tradingId']) \\\n",
    "                            .field(\"tradingAmount\", data['tradingAmount']) \\\n",
    "                            .tag(\"stroke\", data['stroke']) \\\n",
    "                            .field(\"expiry\", data['expiry'])\n",
    "                        \n",
    "                        # Write the data to InfluxDB\n",
    "                        write_api.write(bucket=influxdb_bucket, org=influxdb_org, record=point)\n",
    "                        print(\"Data written to InfluxDB\")\n",
    "                    else:\n",
    "                        print(\"JSON does not contain expected keys\")\n",
    "\n",
    "                except json.JSONDecodeError:\n",
    "                    print(f\"Received non-JSON message: {message}\")\n",
    "\n",
    "            except websockets.ConnectionClosed:\n",
    "                print(\"Connection closed\")\n",
    "                break\n",
    "\n",
    "# Run the receive function\n",
    "asyncio.get_event_loop().run_until_complete(receive_data())\n",
    "\n",
    "# Close the InfluxDB client when done\n",
    "client.close()\n"
   ]
  },
  {
   "cell_type": "code",
   "execution_count": null,
   "id": "12395a7a-f4e1-48bc-83d0-6313bbebdf2c",
   "metadata": {},
   "outputs": [],
   "source": []
  }
 ],
 "metadata": {
  "kernelspec": {
   "display_name": "Python (trading_producer)",
   "language": "python",
   "name": "myenv"
  },
  "language_info": {
   "codemirror_mode": {
    "name": "ipython",
    "version": 3
   },
   "file_extension": ".py",
   "mimetype": "text/x-python",
   "name": "python",
   "nbconvert_exporter": "python",
   "pygments_lexer": "ipython3",
   "version": "3.9.20"
  }
 },
 "nbformat": 4,
 "nbformat_minor": 5
}
