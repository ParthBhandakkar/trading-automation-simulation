{
 "cells": [
  {
   "cell_type": "code",
   "execution_count": null,
   "id": "aea5a757-7cb5-4fbb-9ee7-0aac6f916267",
   "metadata": {},
   "outputs": [
    {
     "name": "stdout",
     "output_type": "stream",
     "text": [
      "Received message: Connected to WebSocket Server. Listening for Kafka messages...\n",
      "Received non-JSON message: Connected to WebSocket Server. Listening for Kafka messages...\n"
     ]
    }
   ],
   "source": [
    "import asyncio\n",
    "import websockets\n",
    "import nest_asyncio\n",
    "import json\n",
    "from influxdb_client import InfluxDBClient, Point\n",
    "from influxdb_client.client.write_api import SYNCHRONOUS\n",
    "\n",
    "# Apply nested event loop fix (for Jupyter Notebooks)\n",
    "nest_asyncio.apply()\n",
    "\n",
    "# InfluxDB connection settings\n",
    "influxdb_url = \"http://165.232.189.85:8086\"  # Replace with your InfluxDB URL\n",
    "influxdb_token = \"568jhpmRI1LdSEfc16lasMnJbvwcuz9fehxtrIbTbTJJOTajXxqEoRMTUKsmyaWyVpeUJ9obG-XxEBSi2cna2g==\"  # Replace with your InfluxDB token\n",
    "influxdb_org = \"Devnullx\"  # Replace with your InfluxDB organization\n",
    "influxdb_bucket = \"wallet_data\"  # Replace with your InfluxDB bucket\n",
    "# Create InfluxDB client\n",
    "client = InfluxDBClient(url=influxdb_url, token=influxdb_token, org=influxdb_org)\n",
    "write_api = client.write_api(write_options=SYNCHRONOUS)\n",
    "\n",
    "async def receive_data():\n",
    "    uri = \"wss://king-prawn-app-jn38u.ondigitalocean.app\"  # Replace with your WebSocket URI\n",
    "\n",
    "    async with websockets.connect(uri) as websocket:\n",
    "        while True:\n",
    "            try:\n",
    "                # Receive a message from the WebSocket server\n",
    "                message = await websocket.recv()\n",
    "                print(f\"Received message: {message}\")\n",
    "\n",
    "                # Try to parse the message as JSON\n",
    "                try:\n",
    "                    data = json.loads(message)\n",
    "\n",
    "                    # Check if the expected keys are present in the JSON\n",
    "                    if all(key in data for key in ('userId', 'totalAmount', 'createdAt', 'updatedAt')):\n",
    "                        # Prepare the data for InfluxDB\n",
    "                        point = Point(\"wallet_data\") \\\n",
    "                            .field(\"userId\", data['userId']) \\\n",
    "                            .tag(\"totalAmount\", data['totalAmount']) \\\n",
    "                            .tag(\"createdAt\", data['createdAt']) \\\n",
    "                            .tag(\"updatedAt\", data['updatedAt']) \n",
    "                        \n",
    "                        # Write the data to InfluxDB\n",
    "                        write_api.write(bucket=influxdb_bucket, org=influxdb_org, record=point)\n",
    "                        print(\"Data written to InfluxDB\")\n",
    "                    else:\n",
    "                        print(\"JSON does not contain expected keys\")\n",
    "\n",
    "                except json.JSONDecodeError:\n",
    "                    print(f\"Received non-JSON message: {message}\")\n",
    "\n",
    "            except websockets.ConnectionClosed:\n",
    "                print(\"Connection closed\")\n",
    "                break\n",
    "\n",
    "# Run the receive function\n",
    "asyncio.get_event_loop().run_until_complete(receive_data())\n",
    "\n",
    "# Close the InfluxDB client when done\n",
    "client.close()\n"
   ]
  },
  {
   "cell_type": "code",
   "execution_count": null,
   "id": "acbf63e3-df67-49cd-93b4-93fc24ddb965",
   "metadata": {},
   "outputs": [],
   "source": []
  }
 ],
 "metadata": {
  "kernelspec": {
   "display_name": "Python (trading_producer)",
   "language": "python",
   "name": "myenv"
  },
  "language_info": {
   "codemirror_mode": {
    "name": "ipython",
    "version": 3
   },
   "file_extension": ".py",
   "mimetype": "text/x-python",
   "name": "python",
   "nbconvert_exporter": "python",
   "pygments_lexer": "ipython3",
   "version": "3.9.20"
  }
 },
 "nbformat": 4,
 "nbformat_minor": 5
}
