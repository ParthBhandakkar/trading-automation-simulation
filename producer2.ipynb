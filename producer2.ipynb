{
 "cells": [
  {
   "cell_type": "code",
   "execution_count": 1,
   "id": "ecf17940-18a7-4e76-b709-8c166a6d0b40",
   "metadata": {},
   "outputs": [],
   "source": [
    "from confluent_kafka import Producer"
   ]
  },
  {
   "cell_type": "code",
   "execution_count": 5,
   "id": "44924499-c8cd-44ab-8642-44cf6f86c816",
   "metadata": {},
   "outputs": [
    {
     "name": "stderr",
     "output_type": "stream",
     "text": [
      "%3|1726662685.051|FAIL|my-python-producer#producer-1| [thrd:sasl_ssl://kafka-database-do-user-17641554-0.h.db.ondigitalocea]: sasl_ssl://kafka-database-do-user-17641554-0.h.db.ondigitalocean.com:25073/bootstrap: SSL handshake failed: error:0A000086:SSL routines::certificate verify failed: broker certificate could not be verified, verify that ssl.ca.location is correctly configured or root CA certificates are installed (install ca-certificates package) (after 303ms in state SSL_HANDSHAKE)\n",
      "%3|1726662685.991|FAIL|my-python-producer#producer-1| [thrd:sasl_ssl://kafka-database-do-user-17641554-0.h.db.ondigitalocea]: sasl_ssl://kafka-database-do-user-17641554-0.h.db.ondigitalocean.com:25073/bootstrap: SSL handshake failed: error:0A000086:SSL routines::certificate verify failed: broker certificate could not be verified, verify that ssl.ca.location is correctly configured or root CA certificates are installed (install ca-certificates package) (after 286ms in state SSL_HANDSHAKE, 1 identical error(s) suppressed)\n",
      "%3|1726662716.738|FAIL|my-python-producer#producer-1| [thrd:sasl_ssl://kafka-database-do-user-17641554-0.h.db.ondigitalocea]: sasl_ssl://kafka-database-do-user-17641554-0.h.db.ondigitalocean.com:25073/bootstrap: SSL handshake failed: error:0A000086:SSL routines::certificate verify failed: broker certificate could not be verified, verify that ssl.ca.location is correctly configured or root CA certificates are installed (install ca-certificates package) (after 23ms in state SSL_HANDSHAKE, 31 identical error(s) suppressed)\n"
     ]
    }
   ],
   "source": [
    "producer = Producer(conf)"
   ]
  },
  {
   "cell_type": "code",
   "execution_count": 7,
   "id": "4a7bc4f6-a408-4c09-98e0-162b8c5bb985",
   "metadata": {},
   "outputs": [
    {
     "name": "stderr",
     "output_type": "stream",
     "text": [
      "%3|1726662746.743|FAIL|my-python-producer#producer-1| [thrd:sasl_ssl://kafka-database-do-user-17641554-0.h.db.ondigitalocea]: sasl_ssl://kafka-database-do-user-17641554-0.h.db.ondigitalocean.com:25073/bootstrap: SSL handshake failed: error:0A000086:SSL routines::certificate verify failed: broker certificate could not be verified, verify that ssl.ca.location is correctly configured or root CA certificates are installed (install ca-certificates package) (after 15ms in state SSL_HANDSHAKE, 30 identical error(s) suppressed)\n"
     ]
    }
   ],
   "source": [
    "topic = 'trade_data'"
   ]
  },
  {
   "cell_type": "code",
   "execution_count": 8,
   "id": "0920cc93-cb9f-4cce-85f5-4b6eeda970df",
   "metadata": {},
   "outputs": [
    {
     "name": "stderr",
     "output_type": "stream",
     "text": [
      "%3|1726662777.734|FAIL|my-python-producer#producer-1| [thrd:sasl_ssl://kafka-database-do-user-17641554-0.h.db.ondigitalocea]: sasl_ssl://kafka-database-do-user-17641554-0.h.db.ondigitalocean.com:25073/bootstrap: SSL handshake failed: error:0A000086:SSL routines::certificate verify failed: broker certificate could not be verified, verify that ssl.ca.location is correctly configured or root CA certificates are installed (install ca-certificates package) (after 17ms in state SSL_HANDSHAKE, 31 identical error(s) suppressed)\n"
     ]
    }
   ],
   "source": [
    "producer.produce(topic, key=\"key1\", value=\"Hello, Kafka from Python!\", callback=delivery_report)"
   ]
  },
  {
   "cell_type": "code",
   "execution_count": null,
   "id": "f2165e47-73cd-4802-a1b3-4ab8e43197ef",
   "metadata": {},
   "outputs": [
    {
     "name": "stderr",
     "output_type": "stream",
     "text": [
      "%3|1726662807.735|FAIL|my-python-producer#producer-1| [thrd:sasl_ssl://kafka-database-do-user-17641554-0.h.db.ondigitalocea]: sasl_ssl://kafka-database-do-user-17641554-0.h.db.ondigitalocean.com:25073/bootstrap: SSL handshake failed: error:0A000086:SSL routines::certificate verify failed: broker certificate could not be verified, verify that ssl.ca.location is correctly configured or root CA certificates are installed (install ca-certificates package) (after 13ms in state SSL_HANDSHAKE, 30 identical error(s) suppressed)\n",
      "%3|1726662837.746|FAIL|my-python-producer#producer-1| [thrd:sasl_ssl://kafka-database-do-user-17641554-0.h.db.ondigitalocea]: sasl_ssl://kafka-database-do-user-17641554-0.h.db.ondigitalocean.com:25073/bootstrap: SSL handshake failed: error:0A000086:SSL routines::certificate verify failed: broker certificate could not be verified, verify that ssl.ca.location is correctly configured or root CA certificates are installed (install ca-certificates package) (after 19ms in state SSL_HANDSHAKE, 30 identical error(s) suppressed)\n",
      "%3|1726662868.747|FAIL|my-python-producer#producer-1| [thrd:sasl_ssl://kafka-database-do-user-17641554-0.h.db.ondigitalocea]: sasl_ssl://kafka-database-do-user-17641554-0.h.db.ondigitalocean.com:25073/bootstrap: SSL handshake failed: error:0A000086:SSL routines::certificate verify failed: broker certificate could not be verified, verify that ssl.ca.location is correctly configured or root CA certificates are installed (install ca-certificates package) (after 14ms in state SSL_HANDSHAKE, 31 identical error(s) suppressed)\n",
      "%3|1726662898.749|FAIL|my-python-producer#producer-1| [thrd:sasl_ssl://kafka-database-do-user-17641554-0.h.db.ondigitalocea]: sasl_ssl://kafka-database-do-user-17641554-0.h.db.ondigitalocean.com:25073/bootstrap: SSL handshake failed: error:0A000086:SSL routines::certificate verify failed: broker certificate could not be verified, verify that ssl.ca.location is correctly configured or root CA certificates are installed (install ca-certificates package) (after 12ms in state SSL_HANDSHAKE, 30 identical error(s) suppressed)\n",
      "%3|1726662928.758|FAIL|my-python-producer#producer-1| [thrd:sasl_ssl://kafka-database-do-user-17641554-0.h.db.ondigitalocea]: sasl_ssl://kafka-database-do-user-17641554-0.h.db.ondigitalocean.com:25073/bootstrap: SSL handshake failed: error:0A000086:SSL routines::certificate verify failed: broker certificate could not be verified, verify that ssl.ca.location is correctly configured or root CA certificates are installed (install ca-certificates package) (after 14ms in state SSL_HANDSHAKE, 30 identical error(s) suppressed)\n",
      "%3|1726662958.763|FAIL|my-python-producer#producer-1| [thrd:sasl_ssl://kafka-database-do-user-17641554-0.h.db.ondigitalocea]: sasl_ssl://kafka-database-do-user-17641554-0.h.db.ondigitalocean.com:25073/bootstrap: SSL handshake failed: error:0A000086:SSL routines::certificate verify failed: broker certificate could not be verified, verify that ssl.ca.location is correctly configured or root CA certificates are installed (install ca-certificates package) (after 12ms in state SSL_HANDSHAKE, 30 identical error(s) suppressed)\n",
      "%3|1726662988.766|FAIL|my-python-producer#producer-1| [thrd:sasl_ssl://kafka-database-do-user-17641554-0.h.db.ondigitalocea]: sasl_ssl://kafka-database-do-user-17641554-0.h.db.ondigitalocean.com:25073/bootstrap: SSL handshake failed: error:0A000086:SSL routines::certificate verify failed: broker certificate could not be verified, verify that ssl.ca.location is correctly configured or root CA certificates are installed (install ca-certificates package) (after 11ms in state SSL_HANDSHAKE, 31 identical error(s) suppressed)\n",
      "%3|1726663018.772|FAIL|my-python-producer#producer-1| [thrd:sasl_ssl://kafka-database-do-user-17641554-0.h.db.ondigitalocea]: sasl_ssl://kafka-database-do-user-17641554-0.h.db.ondigitalocean.com:25073/bootstrap: SSL handshake failed: error:0A000086:SSL routines::certificate verify failed: broker certificate could not be verified, verify that ssl.ca.location is correctly configured or root CA certificates are installed (install ca-certificates package) (after 11ms in state SSL_HANDSHAKE, 30 identical error(s) suppressed)\n"
     ]
    }
   ],
   "source": [
    "producer.flush()"
   ]
  },
  {
   "cell_type": "code",
   "execution_count": 12,
   "id": "d34a98cd-6dc5-4728-8cc0-2f32d17240ba",
   "metadata": {},
   "outputs": [],
   "source": [
    "import os, time\n",
    "from influxdb_client import InfluxDBClient, Point\n",
    "import random\n",
    "from kafka import KafkaProducer, KafkaConsumer\n",
    "import json\n",
    "import pandas as pd\n",
    "import json\n",
    "import datetime as dt\n",
    "from time import sleep\n",
    "from confluent_kafka import Producer"
   ]
  },
  {
   "cell_type": "code",
   "execution_count": 13,
   "id": "5af4c8b4-ca9c-41f5-a595-93ac4c271603",
   "metadata": {},
   "outputs": [],
   "source": [
    "token = \"pNa6-UfsFJUYd--ryyzXGDUk1o7Ei9BR1TKqO43WJ50uCmuJ30WDAHXk47Nc6vK8wALkJWejAJg09f-0nOE3cg==\"\n",
    "org = \"Devnullx\"\n",
    "host = \"http://165.232.189.85:8086/\"\n",
    "bucket = \"trade_sim2\" \n",
    "client = InfluxDBClient(url=host, token=token, org=org)"
   ]
  },
  {
   "cell_type": "code",
   "execution_count": 14,
   "id": "abead2ee-e0bd-40a0-8297-fb239a3ac0f9",
   "metadata": {},
   "outputs": [],
   "source": [
    "query = '''from(bucket: \"trade_sim2\")\n",
    "  |> range(start: -1m)\n",
    "  |> filter(fn: (r) => r[\"_measurement\"] == \"trade\")\n",
    "  |> filter(fn: (r) => r[\"_field\"] == \"Close\" or r[\"_field\"] == \"High\" or r[\"_field\"] == \"Low\" or r[\"_field\"] == \"Open\" or r[\"_field\"] == \"Volume\" or r[\"_field\"] == \"buy_money\" or r[\"_field\"] == \"buy_quant\" or r[\"_field\"] == \"money_earned_user\" or r[\"_field\"] == \"money_earned_platform\" or r[\"_field\"] == \"open_time\" or r[\"_field\"] == \"sell_money\" or r[\"_field\"] == \"sell_quant\" or r[\"_field\"] == \"total_money_invested\" or r[\"_field\"] == \"user_loser\" or r[\"_field\"] == \"user_profitable\")\n",
    "  |> aggregateWindow(every: 1m, fn: mean, createEmpty: false)\n",
    "  |> yield(name: \"mean\")'''"
   ]
  },
  {
   "cell_type": "code",
   "execution_count": 15,
   "id": "0195361d-e2a0-4097-869c-8fc8e2faf409",
   "metadata": {},
   "outputs": [],
   "source": [
    "query_api = client.query_api()"
   ]
  },
  {
   "cell_type": "code",
   "execution_count": 16,
   "id": "cf8eba60-2281-4c84-855d-0163444b66a5",
   "metadata": {},
   "outputs": [],
   "source": [
    "def delivery_report(err, msg):\n",
    "    if err is not None:\n",
    "        print(f\"Message delivery failed: {err}\")\n",
    "    else:\n",
    "        print(f\"Message delivered to {msg.topic()} [{msg.partition()}]\")"
   ]
  },
  {
   "cell_type": "code",
   "execution_count": 17,
   "id": "3109f1fa-e85f-4e28-baa2-5a9ce2cc0879",
   "metadata": {},
   "outputs": [],
   "source": [
    "conf = {\n",
    "    'bootstrap.servers': 'kafka-database-do-user-17641554-0.h.db.ondigitalocean.com:25073',\n",
    "    'security.protocol': 'SASL_SSL',\n",
    "    'sasl.mechanisms': 'PLAIN',\n",
    "    'sasl.username': 'doadmin',\n",
    "    'sasl.password': 'AVNS_UObiidzUSi5rq9l-twR',\n",
    "    'ssl.ca.location': '/etc/ssl/certs/ca-certificates.crt',  # This is the default CA cert location on most systems\n",
    "    'client.id': 'my-python-producer'\n",
    "}"
   ]
  },
  {
   "cell_type": "code",
   "execution_count": 19,
   "id": "a06600ce-794f-4db0-919b-ce594bc75b65",
   "metadata": {},
   "outputs": [],
   "source": [
    "topic = 'trade_data'"
   ]
  },
  {
   "cell_type": "code",
   "execution_count": null,
   "id": "3d6d05c9-720f-4e8c-a063-a46987a8ee5b",
   "metadata": {},
   "outputs": [
    {
     "name": "stderr",
     "output_type": "stream",
     "text": [
      "%3|1726663433.941|FAIL|my-python-producer#producer-2| [thrd:sasl_ssl://kafka-database-do-user-17641554-0.h.db.ondigitalocea]: sasl_ssl://kafka-database-do-user-17641554-0.h.db.ondigitalocean.com:25073/bootstrap: SSL handshake failed: error:0A000086:SSL routines::certificate verify failed: broker certificate could not be verified, verify that ssl.ca.location is correctly configured or root CA certificates are installed (install ca-certificates package) (after 12ms in state SSL_HANDSHAKE)\n",
      "%3|1726663434.940|FAIL|my-python-producer#producer-2| [thrd:sasl_ssl://kafka-database-do-user-17641554-0.h.db.ondigitalocea]: sasl_ssl://kafka-database-do-user-17641554-0.h.db.ondigitalocean.com:25073/bootstrap: SSL handshake failed: error:0A000086:SSL routines::certificate verify failed: broker certificate could not be verified, verify that ssl.ca.location is correctly configured or root CA certificates are installed (install ca-certificates package) (after 13ms in state SSL_HANDSHAKE, 1 identical error(s) suppressed)\n",
      "%3|1726663464.944|FAIL|my-python-producer#producer-2| [thrd:sasl_ssl://kafka-database-do-user-17641554-0.h.db.ondigitalocea]: sasl_ssl://kafka-database-do-user-17641554-0.h.db.ondigitalocean.com:25073/bootstrap: SSL handshake failed: error:0A000086:SSL routines::certificate verify failed: broker certificate could not be verified, verify that ssl.ca.location is correctly configured or root CA certificates are installed (install ca-certificates package) (after 12ms in state SSL_HANDSHAKE, 30 identical error(s) suppressed)\n",
      "%3|1726663494.947|FAIL|my-python-producer#producer-2| [thrd:sasl_ssl://kafka-database-do-user-17641554-0.h.db.ondigitalocea]: sasl_ssl://kafka-database-do-user-17641554-0.h.db.ondigitalocean.com:25073/bootstrap: SSL handshake failed: error:0A000086:SSL routines::certificate verify failed: broker certificate could not be verified, verify that ssl.ca.location is correctly configured or root CA certificates are installed (install ca-certificates package) (after 10ms in state SSL_HANDSHAKE, 30 identical error(s) suppressed)\n",
      "%3|1726663524.952|FAIL|my-python-producer#producer-2| [thrd:sasl_ssl://kafka-database-do-user-17641554-0.h.db.ondigitalocea]: sasl_ssl://kafka-database-do-user-17641554-0.h.db.ondigitalocean.com:25073/bootstrap: SSL handshake failed: error:0A000086:SSL routines::certificate verify failed: broker certificate could not be verified, verify that ssl.ca.location is correctly configured or root CA certificates are installed (install ca-certificates package) (after 10ms in state SSL_HANDSHAKE, 30 identical error(s) suppressed)\n",
      "%3|1726663554.962|FAIL|my-python-producer#producer-2| [thrd:sasl_ssl://kafka-database-do-user-17641554-0.h.db.ondigitalocea]: sasl_ssl://kafka-database-do-user-17641554-0.h.db.ondigitalocean.com:25073/bootstrap: SSL handshake failed: error:0A000086:SSL routines::certificate verify failed: broker certificate could not be verified, verify that ssl.ca.location is correctly configured or root CA certificates are installed (install ca-certificates package) (after 15ms in state SSL_HANDSHAKE, 30 identical error(s) suppressed)\n",
      "%3|1726663584.962|FAIL|my-python-producer#producer-2| [thrd:sasl_ssl://kafka-database-do-user-17641554-0.h.db.ondigitalocea]: sasl_ssl://kafka-database-do-user-17641554-0.h.db.ondigitalocean.com:25073/bootstrap: SSL handshake failed: error:0A000086:SSL routines::certificate verify failed: broker certificate could not be verified, verify that ssl.ca.location is correctly configured or root CA certificates are installed (install ca-certificates package) (after 10ms in state SSL_HANDSHAKE, 30 identical error(s) suppressed)\n",
      "%3|1726663614.969|FAIL|my-python-producer#producer-2| [thrd:sasl_ssl://kafka-database-do-user-17641554-0.h.db.ondigitalocea]: sasl_ssl://kafka-database-do-user-17641554-0.h.db.ondigitalocean.com:25073/bootstrap: SSL handshake failed: error:0A000086:SSL routines::certificate verify failed: broker certificate could not be verified, verify that ssl.ca.location is correctly configured or root CA certificates are installed (install ca-certificates package) (after 11ms in state SSL_HANDSHAKE, 30 identical error(s) suppressed)\n",
      "%3|1726663644.974|FAIL|my-python-producer#producer-2| [thrd:sasl_ssl://kafka-database-do-user-17641554-0.h.db.ondigitalocea]: sasl_ssl://kafka-database-do-user-17641554-0.h.db.ondigitalocean.com:25073/bootstrap: SSL handshake failed: error:0A000086:SSL routines::certificate verify failed: broker certificate could not be verified, verify that ssl.ca.location is correctly configured or root CA certificates are installed (install ca-certificates package) (after 11ms in state SSL_HANDSHAKE, 30 identical error(s) suppressed)\n",
      "%3|1726663674.978|FAIL|my-python-producer#producer-2| [thrd:sasl_ssl://kafka-database-do-user-17641554-0.h.db.ondigitalocea]: sasl_ssl://kafka-database-do-user-17641554-0.h.db.ondigitalocean.com:25073/bootstrap: SSL handshake failed: error:0A000086:SSL routines::certificate verify failed: broker certificate could not be verified, verify that ssl.ca.location is correctly configured or root CA certificates are installed (install ca-certificates package) (after 10ms in state SSL_HANDSHAKE, 30 identical error(s) suppressed)\n",
      "%3|1726663704.987|FAIL|my-python-producer#producer-2| [thrd:sasl_ssl://kafka-database-do-user-17641554-0.h.db.ondigitalocea]: sasl_ssl://kafka-database-do-user-17641554-0.h.db.ondigitalocean.com:25073/bootstrap: SSL handshake failed: error:0A000086:SSL routines::certificate verify failed: broker certificate could not be verified, verify that ssl.ca.location is correctly configured or root CA certificates are installed (install ca-certificates package) (after 12ms in state SSL_HANDSHAKE, 30 identical error(s) suppressed)\n"
     ]
    },
    {
     "name": "stdout",
     "output_type": "stream",
     "text": [
      "Message delivery failed: KafkaError{code=_MSG_TIMED_OUT,val=-192,str=\"Local: Message timed out\"}\n",
      "Sent record to topic at time 2024-09-18 12:48:53.979759\n"
     ]
    },
    {
     "name": "stderr",
     "output_type": "stream",
     "text": [
      "%3|1726663734.995|FAIL|my-python-producer#producer-2| [thrd:sasl_ssl://kafka-database-do-user-17641554-0.h.db.ondigitalocea]: sasl_ssl://kafka-database-do-user-17641554-0.h.db.ondigitalocean.com:25073/bootstrap: SSL handshake failed: error:0A000086:SSL routines::certificate verify failed: broker certificate could not be verified, verify that ssl.ca.location is correctly configured or root CA certificates are installed (install ca-certificates package) (after 11ms in state SSL_HANDSHAKE, 31 identical error(s) suppressed)\n",
      "%3|1726663765.002|FAIL|my-python-producer#producer-2| [thrd:sasl_ssl://kafka-database-do-user-17641554-0.h.db.ondigitalocea]: sasl_ssl://kafka-database-do-user-17641554-0.h.db.ondigitalocean.com:25073/bootstrap: SSL handshake failed: error:0A000086:SSL routines::certificate verify failed: broker certificate could not be verified, verify that ssl.ca.location is correctly configured or root CA certificates are installed (install ca-certificates package) (after 12ms in state SSL_HANDSHAKE, 30 identical error(s) suppressed)\n",
      "%3|1726663794.071|FAIL|my-python-producer#producer-3| [thrd:sasl_ssl://kafka-database-do-user-17641554-0.h.db.ondigitalocea]: sasl_ssl://kafka-database-do-user-17641554-0.h.db.ondigitalocean.com:25073/bootstrap: SSL handshake failed: error:0A000086:SSL routines::certificate verify failed: broker certificate could not be verified, verify that ssl.ca.location is correctly configured or root CA certificates are installed (install ca-certificates package) (after 11ms in state SSL_HANDSHAKE)\n",
      "%3|1726663795.068|FAIL|my-python-producer#producer-3| [thrd:sasl_ssl://kafka-database-do-user-17641554-0.h.db.ondigitalocea]: sasl_ssl://kafka-database-do-user-17641554-0.h.db.ondigitalocean.com:25073/bootstrap: SSL handshake failed: error:0A000086:SSL routines::certificate verify failed: broker certificate could not be verified, verify that ssl.ca.location is correctly configured or root CA certificates are installed (install ca-certificates package) (after 10ms in state SSL_HANDSHAKE, 1 identical error(s) suppressed)\n",
      "%3|1726663825.075|FAIL|my-python-producer#producer-3| [thrd:sasl_ssl://kafka-database-do-user-17641554-0.h.db.ondigitalocea]: sasl_ssl://kafka-database-do-user-17641554-0.h.db.ondigitalocean.com:25073/bootstrap: SSL handshake failed: error:0A000086:SSL routines::certificate verify failed: broker certificate could not be verified, verify that ssl.ca.location is correctly configured or root CA certificates are installed (install ca-certificates package) (after 11ms in state SSL_HANDSHAKE, 30 identical error(s) suppressed)\n",
      "%3|1726663855.084|FAIL|my-python-producer#producer-3| [thrd:sasl_ssl://kafka-database-do-user-17641554-0.h.db.ondigitalocea]: sasl_ssl://kafka-database-do-user-17641554-0.h.db.ondigitalocean.com:25073/bootstrap: SSL handshake failed: error:0A000086:SSL routines::certificate verify failed: broker certificate could not be verified, verify that ssl.ca.location is correctly configured or root CA certificates are installed (install ca-certificates package) (after 16ms in state SSL_HANDSHAKE, 30 identical error(s) suppressed)\n",
      "%3|1726663885.088|FAIL|my-python-producer#producer-3| [thrd:sasl_ssl://kafka-database-do-user-17641554-0.h.db.ondigitalocea]: sasl_ssl://kafka-database-do-user-17641554-0.h.db.ondigitalocean.com:25073/bootstrap: SSL handshake failed: error:0A000086:SSL routines::certificate verify failed: broker certificate could not be verified, verify that ssl.ca.location is correctly configured or root CA certificates are installed (install ca-certificates package) (after 15ms in state SSL_HANDSHAKE, 30 identical error(s) suppressed)\n",
      "%3|1726663916.089|FAIL|my-python-producer#producer-3| [thrd:sasl_ssl://kafka-database-do-user-17641554-0.h.db.ondigitalocea]: sasl_ssl://kafka-database-do-user-17641554-0.h.db.ondigitalocean.com:25073/bootstrap: SSL handshake failed: error:0A000086:SSL routines::certificate verify failed: broker certificate could not be verified, verify that ssl.ca.location is correctly configured or root CA certificates are installed (install ca-certificates package) (after 10ms in state SSL_HANDSHAKE, 31 identical error(s) suppressed)\n",
      "%3|1726663946.094|FAIL|my-python-producer#producer-3| [thrd:sasl_ssl://kafka-database-do-user-17641554-0.h.db.ondigitalocea]: sasl_ssl://kafka-database-do-user-17641554-0.h.db.ondigitalocean.com:25073/bootstrap: SSL handshake failed: error:0A000086:SSL routines::certificate verify failed: broker certificate could not be verified, verify that ssl.ca.location is correctly configured or root CA certificates are installed (install ca-certificates package) (after 11ms in state SSL_HANDSHAKE, 30 identical error(s) suppressed)\n",
      "%3|1726663976.100|FAIL|my-python-producer#producer-3| [thrd:sasl_ssl://kafka-database-do-user-17641554-0.h.db.ondigitalocea]: sasl_ssl://kafka-database-do-user-17641554-0.h.db.ondigitalocean.com:25073/bootstrap: SSL handshake failed: error:0A000086:SSL routines::certificate verify failed: broker certificate could not be verified, verify that ssl.ca.location is correctly configured or root CA certificates are installed (install ca-certificates package) (after 10ms in state SSL_HANDSHAKE, 30 identical error(s) suppressed)\n",
      "%3|1726664006.110|FAIL|my-python-producer#producer-3| [thrd:sasl_ssl://kafka-database-do-user-17641554-0.h.db.ondigitalocea]: sasl_ssl://kafka-database-do-user-17641554-0.h.db.ondigitalocean.com:25073/bootstrap: SSL handshake failed: error:0A000086:SSL routines::certificate verify failed: broker certificate could not be verified, verify that ssl.ca.location is correctly configured or root CA certificates are installed (install ca-certificates package) (after 10ms in state SSL_HANDSHAKE, 30 identical error(s) suppressed)\n",
      "%3|1726664036.115|FAIL|my-python-producer#producer-3| [thrd:sasl_ssl://kafka-database-do-user-17641554-0.h.db.ondigitalocea]: sasl_ssl://kafka-database-do-user-17641554-0.h.db.ondigitalocean.com:25073/bootstrap: SSL handshake failed: error:0A000086:SSL routines::certificate verify failed: broker certificate could not be verified, verify that ssl.ca.location is correctly configured or root CA certificates are installed (install ca-certificates package) (after 10ms in state SSL_HANDSHAKE, 30 identical error(s) suppressed)\n",
      "%3|1726664067.114|FAIL|my-python-producer#producer-3| [thrd:sasl_ssl://kafka-database-do-user-17641554-0.h.db.ondigitalocea]: sasl_ssl://kafka-database-do-user-17641554-0.h.db.ondigitalocean.com:25073/bootstrap: SSL handshake failed: error:0A000086:SSL routines::certificate verify failed: broker certificate could not be verified, verify that ssl.ca.location is correctly configured or root CA certificates are installed (install ca-certificates package) (after 11ms in state SSL_HANDSHAKE, 31 identical error(s) suppressed)\n"
     ]
    },
    {
     "name": "stdout",
     "output_type": "stream",
     "text": [
      "Message delivery failed: KafkaError{code=_MSG_TIMED_OUT,val=-192,str=\"Local: Message timed out\"}\n",
      "Sent record to topic at time 2024-09-18 12:54:54.107617\n"
     ]
    },
    {
     "name": "stderr",
     "output_type": "stream",
     "text": [
      "%3|1726664097.123|FAIL|my-python-producer#producer-3| [thrd:sasl_ssl://kafka-database-do-user-17641554-0.h.db.ondigitalocea]: sasl_ssl://kafka-database-do-user-17641554-0.h.db.ondigitalocean.com:25073/bootstrap: SSL handshake failed: error:0A000086:SSL routines::certificate verify failed: broker certificate could not be verified, verify that ssl.ca.location is correctly configured or root CA certificates are installed (install ca-certificates package) (after 14ms in state SSL_HANDSHAKE, 30 identical error(s) suppressed)\n",
      "%3|1726664127.127|FAIL|my-python-producer#producer-3| [thrd:sasl_ssl://kafka-database-do-user-17641554-0.h.db.ondigitalocea]: sasl_ssl://kafka-database-do-user-17641554-0.h.db.ondigitalocean.com:25073/bootstrap: SSL handshake failed: error:0A000086:SSL routines::certificate verify failed: broker certificate could not be verified, verify that ssl.ca.location is correctly configured or root CA certificates are installed (install ca-certificates package) (after 12ms in state SSL_HANDSHAKE, 30 identical error(s) suppressed)\n",
      "%3|1726664154.210|FAIL|my-python-producer#producer-4| [thrd:sasl_ssl://kafka-database-do-user-17641554-0.h.db.ondigitalocea]: sasl_ssl://kafka-database-do-user-17641554-0.h.db.ondigitalocean.com:25073/bootstrap: SSL handshake failed: error:0A000086:SSL routines::certificate verify failed: broker certificate could not be verified, verify that ssl.ca.location is correctly configured or root CA certificates are installed (install ca-certificates package) (after 12ms in state SSL_HANDSHAKE)\n",
      "%3|1726664155.206|FAIL|my-python-producer#producer-4| [thrd:sasl_ssl://kafka-database-do-user-17641554-0.h.db.ondigitalocea]: sasl_ssl://kafka-database-do-user-17641554-0.h.db.ondigitalocean.com:25073/bootstrap: SSL handshake failed: error:0A000086:SSL routines::certificate verify failed: broker certificate could not be verified, verify that ssl.ca.location is correctly configured or root CA certificates are installed (install ca-certificates package) (after 9ms in state SSL_HANDSHAKE, 1 identical error(s) suppressed)\n",
      "%3|1726664185.212|FAIL|my-python-producer#producer-4| [thrd:sasl_ssl://kafka-database-do-user-17641554-0.h.db.ondigitalocea]: sasl_ssl://kafka-database-do-user-17641554-0.h.db.ondigitalocean.com:25073/bootstrap: SSL handshake failed: error:0A000086:SSL routines::certificate verify failed: broker certificate could not be verified, verify that ssl.ca.location is correctly configured or root CA certificates are installed (install ca-certificates package) (after 10ms in state SSL_HANDSHAKE, 30 identical error(s) suppressed)\n",
      "%3|1726664215.217|FAIL|my-python-producer#producer-4| [thrd:sasl_ssl://kafka-database-do-user-17641554-0.h.db.ondigitalocea]: sasl_ssl://kafka-database-do-user-17641554-0.h.db.ondigitalocean.com:25073/bootstrap: SSL handshake failed: error:0A000086:SSL routines::certificate verify failed: broker certificate could not be verified, verify that ssl.ca.location is correctly configured or root CA certificates are installed (install ca-certificates package) (after 9ms in state SSL_HANDSHAKE, 30 identical error(s) suppressed)\n",
      "%3|1726664245.227|FAIL|my-python-producer#producer-4| [thrd:sasl_ssl://kafka-database-do-user-17641554-0.h.db.ondigitalocea]: sasl_ssl://kafka-database-do-user-17641554-0.h.db.ondigitalocean.com:25073/bootstrap: SSL handshake failed: error:0A000086:SSL routines::certificate verify failed: broker certificate could not be verified, verify that ssl.ca.location is correctly configured or root CA certificates are installed (install ca-certificates package) (after 14ms in state SSL_HANDSHAKE, 30 identical error(s) suppressed)\n",
      "%3|1726664275.235|FAIL|my-python-producer#producer-4| [thrd:sasl_ssl://kafka-database-do-user-17641554-0.h.db.ondigitalocea]: sasl_ssl://kafka-database-do-user-17641554-0.h.db.ondigitalocean.com:25073/bootstrap: SSL handshake failed: error:0A000086:SSL routines::certificate verify failed: broker certificate could not be verified, verify that ssl.ca.location is correctly configured or root CA certificates are installed (install ca-certificates package) (after 15ms in state SSL_HANDSHAKE, 30 identical error(s) suppressed)\n",
      "%3|1726664305.238|FAIL|my-python-producer#producer-4| [thrd:sasl_ssl://kafka-database-do-user-17641554-0.h.db.ondigitalocea]: sasl_ssl://kafka-database-do-user-17641554-0.h.db.ondigitalocean.com:25073/bootstrap: SSL handshake failed: error:0A000086:SSL routines::certificate verify failed: broker certificate could not be verified, verify that ssl.ca.location is correctly configured or root CA certificates are installed (install ca-certificates package) (after 13ms in state SSL_HANDSHAKE, 30 identical error(s) suppressed)\n",
      "%3|1726664335.243|FAIL|my-python-producer#producer-4| [thrd:sasl_ssl://kafka-database-do-user-17641554-0.h.db.ondigitalocea]: sasl_ssl://kafka-database-do-user-17641554-0.h.db.ondigitalocean.com:25073/bootstrap: SSL handshake failed: error:0A000086:SSL routines::certificate verify failed: broker certificate could not be verified, verify that ssl.ca.location is correctly configured or root CA certificates are installed (install ca-certificates package) (after 13ms in state SSL_HANDSHAKE, 30 identical error(s) suppressed)\n",
      "%3|1726664365.244|FAIL|my-python-producer#producer-4| [thrd:sasl_ssl://kafka-database-do-user-17641554-0.h.db.ondigitalocea]: sasl_ssl://kafka-database-do-user-17641554-0.h.db.ondigitalocean.com:25073/bootstrap: SSL handshake failed: error:0A000086:SSL routines::certificate verify failed: broker certificate could not be verified, verify that ssl.ca.location is correctly configured or root CA certificates are installed (install ca-certificates package) (after 9ms in state SSL_HANDSHAKE, 30 identical error(s) suppressed)\n",
      "%3|1726664395.250|FAIL|my-python-producer#producer-4| [thrd:sasl_ssl://kafka-database-do-user-17641554-0.h.db.ondigitalocea]: sasl_ssl://kafka-database-do-user-17641554-0.h.db.ondigitalocean.com:25073/bootstrap: SSL handshake failed: error:0A000086:SSL routines::certificate verify failed: broker certificate could not be verified, verify that ssl.ca.location is correctly configured or root CA certificates are installed (install ca-certificates package) (after 10ms in state SSL_HANDSHAKE, 30 identical error(s) suppressed)\n",
      "%3|1726664425.262|FAIL|my-python-producer#producer-4| [thrd:sasl_ssl://kafka-database-do-user-17641554-0.h.db.ondigitalocea]: sasl_ssl://kafka-database-do-user-17641554-0.h.db.ondigitalocean.com:25073/bootstrap: SSL handshake failed: error:0A000086:SSL routines::certificate verify failed: broker certificate could not be verified, verify that ssl.ca.location is correctly configured or root CA certificates are installed (install ca-certificates package) (after 12ms in state SSL_HANDSHAKE, 30 identical error(s) suppressed)\n",
      "%3|1726665085.478|FAIL|my-python-producer#producer-6| [thrd:sasl_ssl://kafka-database-do-user-17641554-0.h.db.ondigitalocea]: sasl_ssl://kafka-database-do-user-17641554-0.h.db.ondigitalocean.com:25073/bootstrap: SSL handshake failed: error:0A000086:SSL routines::certificate verify failed: broker certificate could not be verified, verify that ssl.ca.location is correctly configured or root CA certificates are installed (install ca-certificates package) (after 10ms in state SSL_HANDSHAKE, 30 identical error(s) suppressed)\n",
      "%3|1726665115.488|FAIL|my-python-producer#producer-6| [thrd:sasl_ssl://kafka-database-do-user-17641554-0.h.db.ondigitalocea]: sasl_ssl://kafka-database-do-user-17641554-0.h.db.ondigitalocean.com:25073/bootstrap: SSL handshake failed: error:0A000086:SSL routines::certificate verify failed: broker certificate could not be verified, verify that ssl.ca.location is correctly configured or root CA certificates are installed (install ca-certificates package) (after 13ms in state SSL_HANDSHAKE, 30 identical error(s) suppressed)\n",
      "%3|1726665145.491|FAIL|my-python-producer#producer-6| [thrd:sasl_ssl://kafka-database-do-user-17641554-0.h.db.ondigitalocea]: sasl_ssl://kafka-database-do-user-17641554-0.h.db.ondigitalocean.com:25073/bootstrap: SSL handshake failed: error:0A000086:SSL routines::certificate verify failed: broker certificate could not be verified, verify that ssl.ca.location is correctly configured or root CA certificates are installed (install ca-certificates package) (after 11ms in state SSL_HANDSHAKE, 30 identical error(s) suppressed)\n"
     ]
    },
    {
     "name": "stdout",
     "output_type": "stream",
     "text": [
      "Message delivery failed: KafkaError{code=_MSG_TIMED_OUT,val=-192,str=\"Local: Message timed out\"}\n",
      "Sent record to topic at time 2024-09-18 13:12:54.484377\n"
     ]
    },
    {
     "name": "stderr",
     "output_type": "stream",
     "text": [
      "%3|1726665175.495|FAIL|my-python-producer#producer-6| [thrd:sasl_ssl://kafka-database-do-user-17641554-0.h.db.ondigitalocea]: sasl_ssl://kafka-database-do-user-17641554-0.h.db.ondigitalocean.com:25073/bootstrap: SSL handshake failed: error:0A000086:SSL routines::certificate verify failed: broker certificate could not be verified, verify that ssl.ca.location is correctly configured or root CA certificates are installed (install ca-certificates package) (after 9ms in state SSL_HANDSHAKE, 31 identical error(s) suppressed)\n",
      "%3|1726665205.501|FAIL|my-python-producer#producer-6| [thrd:sasl_ssl://kafka-database-do-user-17641554-0.h.db.ondigitalocea]: sasl_ssl://kafka-database-do-user-17641554-0.h.db.ondigitalocean.com:25073/bootstrap: SSL handshake failed: error:0A000086:SSL routines::certificate verify failed: broker certificate could not be verified, verify that ssl.ca.location is correctly configured or root CA certificates are installed (install ca-certificates package) (after 10ms in state SSL_HANDSHAKE, 30 identical error(s) suppressed)\n",
      "%3|1726665234.585|FAIL|my-python-producer#producer-7| [thrd:sasl_ssl://kafka-database-do-user-17641554-0.h.db.ondigitalocea]: sasl_ssl://kafka-database-do-user-17641554-0.h.db.ondigitalocean.com:25073/bootstrap: SSL handshake failed: error:0A000086:SSL routines::certificate verify failed: broker certificate could not be verified, verify that ssl.ca.location is correctly configured or root CA certificates are installed (install ca-certificates package) (after 9ms in state SSL_HANDSHAKE)\n",
      "%3|1726665235.583|FAIL|my-python-producer#producer-7| [thrd:sasl_ssl://kafka-database-do-user-17641554-0.h.db.ondigitalocea]: sasl_ssl://kafka-database-do-user-17641554-0.h.db.ondigitalocean.com:25073/bootstrap: SSL handshake failed: error:0A000086:SSL routines::certificate verify failed: broker certificate could not be verified, verify that ssl.ca.location is correctly configured or root CA certificates are installed (install ca-certificates package) (after 9ms in state SSL_HANDSHAKE, 1 identical error(s) suppressed)\n",
      "%3|1726665265.589|FAIL|my-python-producer#producer-7| [thrd:sasl_ssl://kafka-database-do-user-17641554-0.h.db.ondigitalocea]: sasl_ssl://kafka-database-do-user-17641554-0.h.db.ondigitalocean.com:25073/bootstrap: SSL handshake failed: error:0A000086:SSL routines::certificate verify failed: broker certificate could not be verified, verify that ssl.ca.location is correctly configured or root CA certificates are installed (install ca-certificates package) (after 10ms in state SSL_HANDSHAKE, 30 identical error(s) suppressed)\n",
      "%3|1726665295.595|FAIL|my-python-producer#producer-7| [thrd:sasl_ssl://kafka-database-do-user-17641554-0.h.db.ondigitalocea]: sasl_ssl://kafka-database-do-user-17641554-0.h.db.ondigitalocean.com:25073/bootstrap: SSL handshake failed: error:0A000086:SSL routines::certificate verify failed: broker certificate could not be verified, verify that ssl.ca.location is correctly configured or root CA certificates are installed (install ca-certificates package) (after 13ms in state SSL_HANDSHAKE, 30 identical error(s) suppressed)\n",
      "%3|1726665325.600|FAIL|my-python-producer#producer-7| [thrd:sasl_ssl://kafka-database-do-user-17641554-0.h.db.ondigitalocea]: sasl_ssl://kafka-database-do-user-17641554-0.h.db.ondigitalocean.com:25073/bootstrap: SSL handshake failed: error:0A000086:SSL routines::certificate verify failed: broker certificate could not be verified, verify that ssl.ca.location is correctly configured or root CA certificates are installed (install ca-certificates package) (after 12ms in state SSL_HANDSHAKE, 30 identical error(s) suppressed)\n",
      "%3|1726665355.605|FAIL|my-python-producer#producer-7| [thrd:sasl_ssl://kafka-database-do-user-17641554-0.h.db.ondigitalocea]: sasl_ssl://kafka-database-do-user-17641554-0.h.db.ondigitalocean.com:25073/bootstrap: SSL handshake failed: error:0A000086:SSL routines::certificate verify failed: broker certificate could not be verified, verify that ssl.ca.location is correctly configured or root CA certificates are installed (install ca-certificates package) (after 12ms in state SSL_HANDSHAKE, 30 identical error(s) suppressed)\n",
      "%3|1726665385.608|FAIL|my-python-producer#producer-7| [thrd:sasl_ssl://kafka-database-do-user-17641554-0.h.db.ondigitalocea]: sasl_ssl://kafka-database-do-user-17641554-0.h.db.ondigitalocean.com:25073/bootstrap: SSL handshake failed: error:0A000086:SSL routines::certificate verify failed: broker certificate could not be verified, verify that ssl.ca.location is correctly configured or root CA certificates are installed (install ca-certificates package) (after 10ms in state SSL_HANDSHAKE, 30 identical error(s) suppressed)\n",
      "%3|1726665415.615|FAIL|my-python-producer#producer-7| [thrd:sasl_ssl://kafka-database-do-user-17641554-0.h.db.ondigitalocea]: sasl_ssl://kafka-database-do-user-17641554-0.h.db.ondigitalocean.com:25073/bootstrap: SSL handshake failed: error:0A000086:SSL routines::certificate verify failed: broker certificate could not be verified, verify that ssl.ca.location is correctly configured or root CA certificates are installed (install ca-certificates package) (after 13ms in state SSL_HANDSHAKE, 30 identical error(s) suppressed)\n",
      "%3|1726665445.617|FAIL|my-python-producer#producer-7| [thrd:sasl_ssl://kafka-database-do-user-17641554-0.h.db.ondigitalocea]: sasl_ssl://kafka-database-do-user-17641554-0.h.db.ondigitalocean.com:25073/bootstrap: SSL handshake failed: error:0A000086:SSL routines::certificate verify failed: broker certificate could not be verified, verify that ssl.ca.location is correctly configured or root CA certificates are installed (install ca-certificates package) (after 9ms in state SSL_HANDSHAKE, 30 identical error(s) suppressed)\n",
      "%3|1726665475.622|FAIL|my-python-producer#producer-7| [thrd:sasl_ssl://kafka-database-do-user-17641554-0.h.db.ondigitalocea]: sasl_ssl://kafka-database-do-user-17641554-0.h.db.ondigitalocean.com:25073/bootstrap: SSL handshake failed: error:0A000086:SSL routines::certificate verify failed: broker certificate could not be verified, verify that ssl.ca.location is correctly configured or root CA certificates are installed (install ca-certificates package) (after 9ms in state SSL_HANDSHAKE, 30 identical error(s) suppressed)\n",
      "%3|1726665505.629|FAIL|my-python-producer#producer-7| [thrd:sasl_ssl://kafka-database-do-user-17641554-0.h.db.ondigitalocea]: sasl_ssl://kafka-database-do-user-17641554-0.h.db.ondigitalocean.com:25073/bootstrap: SSL handshake failed: error:0A000086:SSL routines::certificate verify failed: broker certificate could not be verified, verify that ssl.ca.location is correctly configured or root CA certificates are installed (install ca-certificates package) (after 11ms in state SSL_HANDSHAKE, 30 identical error(s) suppressed)\n"
     ]
    },
    {
     "name": "stdout",
     "output_type": "stream",
     "text": [
      "Message delivery failed: KafkaError{code=_MSG_TIMED_OUT,val=-192,str=\"Local: Message timed out\"}\n",
      "Sent record to topic at time 2024-09-18 13:18:54.622382\n"
     ]
    },
    {
     "name": "stderr",
     "output_type": "stream",
     "text": [
      "%3|1726665535.637|FAIL|my-python-producer#producer-7| [thrd:sasl_ssl://kafka-database-do-user-17641554-0.h.db.ondigitalocea]: sasl_ssl://kafka-database-do-user-17641554-0.h.db.ondigitalocean.com:25073/bootstrap: SSL handshake failed: error:0A000086:SSL routines::certificate verify failed: broker certificate could not be verified, verify that ssl.ca.location is correctly configured or root CA certificates are installed (install ca-certificates package) (after 12ms in state SSL_HANDSHAKE, 30 identical error(s) suppressed)\n",
      "%3|1726665565.644|FAIL|my-python-producer#producer-7| [thrd:sasl_ssl://kafka-database-do-user-17641554-0.h.db.ondigitalocea]: sasl_ssl://kafka-database-do-user-17641554-0.h.db.ondigitalocean.com:25073/bootstrap: SSL handshake failed: error:0A000086:SSL routines::certificate verify failed: broker certificate could not be verified, verify that ssl.ca.location is correctly configured or root CA certificates are installed (install ca-certificates package) (after 9ms in state SSL_HANDSHAKE, 30 identical error(s) suppressed)\n",
      "%3|1726665594.732|FAIL|my-python-producer#producer-8| [thrd:sasl_ssl://kafka-database-do-user-17641554-0.h.db.ondigitalocea]: sasl_ssl://kafka-database-do-user-17641554-0.h.db.ondigitalocean.com:25073/bootstrap: SSL handshake failed: error:0A000086:SSL routines::certificate verify failed: broker certificate could not be verified, verify that ssl.ca.location is correctly configured or root CA certificates are installed (install ca-certificates package) (after 10ms in state SSL_HANDSHAKE)\n",
      "%3|1726665595.733|FAIL|my-python-producer#producer-8| [thrd:sasl_ssl://kafka-database-do-user-17641554-0.h.db.ondigitalocea]: sasl_ssl://kafka-database-do-user-17641554-0.h.db.ondigitalocean.com:25073/bootstrap: SSL handshake failed: error:0A000086:SSL routines::certificate verify failed: broker certificate could not be verified, verify that ssl.ca.location is correctly configured or root CA certificates are installed (install ca-certificates package) (after 11ms in state SSL_HANDSHAKE, 1 identical error(s) suppressed)\n",
      "%3|1726665625.737|FAIL|my-python-producer#producer-8| [thrd:sasl_ssl://kafka-database-do-user-17641554-0.h.db.ondigitalocea]: sasl_ssl://kafka-database-do-user-17641554-0.h.db.ondigitalocean.com:25073/bootstrap: SSL handshake failed: error:0A000086:SSL routines::certificate verify failed: broker certificate could not be verified, verify that ssl.ca.location is correctly configured or root CA certificates are installed (install ca-certificates package) (after 11ms in state SSL_HANDSHAKE, 30 identical error(s) suppressed)\n",
      "%3|1726665655.743|FAIL|my-python-producer#producer-8| [thrd:sasl_ssl://kafka-database-do-user-17641554-0.h.db.ondigitalocea]: sasl_ssl://kafka-database-do-user-17641554-0.h.db.ondigitalocean.com:25073/bootstrap: SSL handshake failed: error:0A000086:SSL routines::certificate verify failed: broker certificate could not be verified, verify that ssl.ca.location is correctly configured or root CA certificates are installed (install ca-certificates package) (after 13ms in state SSL_HANDSHAKE, 30 identical error(s) suppressed)\n",
      "%3|1726665685.748|FAIL|my-python-producer#producer-8| [thrd:sasl_ssl://kafka-database-do-user-17641554-0.h.db.ondigitalocea]: sasl_ssl://kafka-database-do-user-17641554-0.h.db.ondigitalocean.com:25073/bootstrap: SSL handshake failed: error:0A000086:SSL routines::certificate verify failed: broker certificate could not be verified, verify that ssl.ca.location is correctly configured or root CA certificates are installed (install ca-certificates package) (after 11ms in state SSL_HANDSHAKE, 30 identical error(s) suppressed)\n",
      "%3|1726665715.753|FAIL|my-python-producer#producer-8| [thrd:sasl_ssl://kafka-database-do-user-17641554-0.h.db.ondigitalocea]: sasl_ssl://kafka-database-do-user-17641554-0.h.db.ondigitalocean.com:25073/bootstrap: SSL handshake failed: error:0A000086:SSL routines::certificate verify failed: broker certificate could not be verified, verify that ssl.ca.location is correctly configured or root CA certificates are installed (install ca-certificates package) (after 10ms in state SSL_HANDSHAKE, 30 identical error(s) suppressed)\n",
      "%3|1726665745.759|FAIL|my-python-producer#producer-8| [thrd:sasl_ssl://kafka-database-do-user-17641554-0.h.db.ondigitalocea]: sasl_ssl://kafka-database-do-user-17641554-0.h.db.ondigitalocean.com:25073/bootstrap: SSL handshake failed: error:0A000086:SSL routines::certificate verify failed: broker certificate could not be verified, verify that ssl.ca.location is correctly configured or root CA certificates are installed (install ca-certificates package) (after 11ms in state SSL_HANDSHAKE, 30 identical error(s) suppressed)\n",
      "%3|1726665775.761|FAIL|my-python-producer#producer-8| [thrd:sasl_ssl://kafka-database-do-user-17641554-0.h.db.ondigitalocea]: sasl_ssl://kafka-database-do-user-17641554-0.h.db.ondigitalocean.com:25073/bootstrap: SSL handshake failed: error:0A000086:SSL routines::certificate verify failed: broker certificate could not be verified, verify that ssl.ca.location is correctly configured or root CA certificates are installed (install ca-certificates package) (after 9ms in state SSL_HANDSHAKE, 30 identical error(s) suppressed)\n",
      "%3|1726665805.767|FAIL|my-python-producer#producer-8| [thrd:sasl_ssl://kafka-database-do-user-17641554-0.h.db.ondigitalocea]: sasl_ssl://kafka-database-do-user-17641554-0.h.db.ondigitalocean.com:25073/bootstrap: SSL handshake failed: error:0A000086:SSL routines::certificate verify failed: broker certificate could not be verified, verify that ssl.ca.location is correctly configured or root CA certificates are installed (install ca-certificates package) (after 11ms in state SSL_HANDSHAKE, 30 identical error(s) suppressed)\n",
      "%3|1726665835.775|FAIL|my-python-producer#producer-8| [thrd:sasl_ssl://kafka-database-do-user-17641554-0.h.db.ondigitalocea]: sasl_ssl://kafka-database-do-user-17641554-0.h.db.ondigitalocean.com:25073/bootstrap: SSL handshake failed: error:0A000086:SSL routines::certificate verify failed: broker certificate could not be verified, verify that ssl.ca.location is correctly configured or root CA certificates are installed (install ca-certificates package) (after 12ms in state SSL_HANDSHAKE, 30 identical error(s) suppressed)\n",
      "%3|1726665865.780|FAIL|my-python-producer#producer-8| [thrd:sasl_ssl://kafka-database-do-user-17641554-0.h.db.ondigitalocea]: sasl_ssl://kafka-database-do-user-17641554-0.h.db.ondigitalocean.com:25073/bootstrap: SSL handshake failed: error:0A000086:SSL routines::certificate verify failed: broker certificate could not be verified, verify that ssl.ca.location is correctly configured or root CA certificates are installed (install ca-certificates package) (after 13ms in state SSL_HANDSHAKE, 30 identical error(s) suppressed)\n"
     ]
    },
    {
     "name": "stdout",
     "output_type": "stream",
     "text": [
      "Message delivery failed: KafkaError{code=_MSG_TIMED_OUT,val=-192,str=\"Local: Message timed out\"}\n",
      "Sent record to topic at time 2024-09-18 13:24:54.771031\n"
     ]
    },
    {
     "name": "stderr",
     "output_type": "stream",
     "text": [
      "%3|1726665895.785|FAIL|my-python-producer#producer-8| [thrd:sasl_ssl://kafka-database-do-user-17641554-0.h.db.ondigitalocea]: sasl_ssl://kafka-database-do-user-17641554-0.h.db.ondigitalocean.com:25073/bootstrap: SSL handshake failed: error:0A000086:SSL routines::certificate verify failed: broker certificate could not be verified, verify that ssl.ca.location is correctly configured or root CA certificates are installed (install ca-certificates package) (after 12ms in state SSL_HANDSHAKE, 30 identical error(s) suppressed)\n",
      "%3|1726665925.787|FAIL|my-python-producer#producer-8| [thrd:sasl_ssl://kafka-database-do-user-17641554-0.h.db.ondigitalocea]: sasl_ssl://kafka-database-do-user-17641554-0.h.db.ondigitalocean.com:25073/bootstrap: SSL handshake failed: error:0A000086:SSL routines::certificate verify failed: broker certificate could not be verified, verify that ssl.ca.location is correctly configured or root CA certificates are installed (install ca-certificates package) (after 9ms in state SSL_HANDSHAKE, 30 identical error(s) suppressed)\n",
      "%3|1726665954.864|FAIL|my-python-producer#producer-9| [thrd:sasl_ssl://kafka-database-do-user-17641554-0.h.db.ondigitalocea]: sasl_ssl://kafka-database-do-user-17641554-0.h.db.ondigitalocean.com:25073/bootstrap: SSL handshake failed: error:0A000086:SSL routines::certificate verify failed: broker certificate could not be verified, verify that ssl.ca.location is correctly configured or root CA certificates are installed (install ca-certificates package) (after 12ms in state SSL_HANDSHAKE)\n",
      "%3|1726665955.861|FAIL|my-python-producer#producer-9| [thrd:sasl_ssl://kafka-database-do-user-17641554-0.h.db.ondigitalocea]: sasl_ssl://kafka-database-do-user-17641554-0.h.db.ondigitalocean.com:25073/bootstrap: SSL handshake failed: error:0A000086:SSL routines::certificate verify failed: broker certificate could not be verified, verify that ssl.ca.location is correctly configured or root CA certificates are installed (install ca-certificates package) (after 10ms in state SSL_HANDSHAKE, 1 identical error(s) suppressed)\n",
      "%3|1726665985.864|FAIL|my-python-producer#producer-9| [thrd:sasl_ssl://kafka-database-do-user-17641554-0.h.db.ondigitalocea]: sasl_ssl://kafka-database-do-user-17641554-0.h.db.ondigitalocean.com:25073/bootstrap: SSL handshake failed: error:0A000086:SSL routines::certificate verify failed: broker certificate could not be verified, verify that ssl.ca.location is correctly configured or root CA certificates are installed (install ca-certificates package) (after 9ms in state SSL_HANDSHAKE, 30 identical error(s) suppressed)\n",
      "%3|1726666015.869|FAIL|my-python-producer#producer-9| [thrd:sasl_ssl://kafka-database-do-user-17641554-0.h.db.ondigitalocea]: sasl_ssl://kafka-database-do-user-17641554-0.h.db.ondigitalocean.com:25073/bootstrap: SSL handshake failed: error:0A000086:SSL routines::certificate verify failed: broker certificate could not be verified, verify that ssl.ca.location is correctly configured or root CA certificates are installed (install ca-certificates package) (after 10ms in state SSL_HANDSHAKE, 30 identical error(s) suppressed)\n",
      "%3|1726666045.875|FAIL|my-python-producer#producer-9| [thrd:sasl_ssl://kafka-database-do-user-17641554-0.h.db.ondigitalocea]: sasl_ssl://kafka-database-do-user-17641554-0.h.db.ondigitalocean.com:25073/bootstrap: SSL handshake failed: error:0A000086:SSL routines::certificate verify failed: broker certificate could not be verified, verify that ssl.ca.location is correctly configured or root CA certificates are installed (install ca-certificates package) (after 11ms in state SSL_HANDSHAKE, 30 identical error(s) suppressed)\n",
      "%3|1726666075.882|FAIL|my-python-producer#producer-9| [thrd:sasl_ssl://kafka-database-do-user-17641554-0.h.db.ondigitalocea]: sasl_ssl://kafka-database-do-user-17641554-0.h.db.ondigitalocean.com:25073/bootstrap: SSL handshake failed: error:0A000086:SSL routines::certificate verify failed: broker certificate could not be verified, verify that ssl.ca.location is correctly configured or root CA certificates are installed (install ca-certificates package) (after 13ms in state SSL_HANDSHAKE, 30 identical error(s) suppressed)\n",
      "%3|1726666105.882|FAIL|my-python-producer#producer-9| [thrd:sasl_ssl://kafka-database-do-user-17641554-0.h.db.ondigitalocea]: sasl_ssl://kafka-database-do-user-17641554-0.h.db.ondigitalocean.com:25073/bootstrap: SSL handshake failed: error:0A000086:SSL routines::certificate verify failed: broker certificate could not be verified, verify that ssl.ca.location is correctly configured or root CA certificates are installed (install ca-certificates package) (after 9ms in state SSL_HANDSHAKE, 30 identical error(s) suppressed)\n",
      "%3|1726666135.888|FAIL|my-python-producer#producer-9| [thrd:sasl_ssl://kafka-database-do-user-17641554-0.h.db.ondigitalocea]: sasl_ssl://kafka-database-do-user-17641554-0.h.db.ondigitalocean.com:25073/bootstrap: SSL handshake failed: error:0A000086:SSL routines::certificate verify failed: broker certificate could not be verified, verify that ssl.ca.location is correctly configured or root CA certificates are installed (install ca-certificates package) (after 10ms in state SSL_HANDSHAKE, 30 identical error(s) suppressed)\n",
      "%3|1726666165.893|FAIL|my-python-producer#producer-9| [thrd:sasl_ssl://kafka-database-do-user-17641554-0.h.db.ondigitalocea]: sasl_ssl://kafka-database-do-user-17641554-0.h.db.ondigitalocean.com:25073/bootstrap: SSL handshake failed: error:0A000086:SSL routines::certificate verify failed: broker certificate could not be verified, verify that ssl.ca.location is correctly configured or root CA certificates are installed (install ca-certificates package) (after 12ms in state SSL_HANDSHAKE, 30 identical error(s) suppressed)\n",
      "%3|1726666195.896|FAIL|my-python-producer#producer-9| [thrd:sasl_ssl://kafka-database-do-user-17641554-0.h.db.ondigitalocea]: sasl_ssl://kafka-database-do-user-17641554-0.h.db.ondigitalocean.com:25073/bootstrap: SSL handshake failed: error:0A000086:SSL routines::certificate verify failed: broker certificate could not be verified, verify that ssl.ca.location is correctly configured or root CA certificates are installed (install ca-certificates package) (after 9ms in state SSL_HANDSHAKE, 30 identical error(s) suppressed)\n",
      "%3|1726666225.903|FAIL|my-python-producer#producer-9| [thrd:sasl_ssl://kafka-database-do-user-17641554-0.h.db.ondigitalocea]: sasl_ssl://kafka-database-do-user-17641554-0.h.db.ondigitalocean.com:25073/bootstrap: SSL handshake failed: error:0A000086:SSL routines::certificate verify failed: broker certificate could not be verified, verify that ssl.ca.location is correctly configured or root CA certificates are installed (install ca-certificates package) (after 11ms in state SSL_HANDSHAKE, 30 identical error(s) suppressed)\n"
     ]
    },
    {
     "name": "stdout",
     "output_type": "stream",
     "text": [
      "Message delivery failed: KafkaError{code=_MSG_TIMED_OUT,val=-192,str=\"Local: Message timed out\"}\n",
      "Sent record to topic at time 2024-09-18 13:30:54.895586\n"
     ]
    },
    {
     "name": "stderr",
     "output_type": "stream",
     "text": [
      "%3|1726666255.907|FAIL|my-python-producer#producer-9| [thrd:sasl_ssl://kafka-database-do-user-17641554-0.h.db.ondigitalocea]: sasl_ssl://kafka-database-do-user-17641554-0.h.db.ondigitalocean.com:25073/bootstrap: SSL handshake failed: error:0A000086:SSL routines::certificate verify failed: broker certificate could not be verified, verify that ssl.ca.location is correctly configured or root CA certificates are installed (install ca-certificates package) (after 10ms in state SSL_HANDSHAKE, 30 identical error(s) suppressed)\n",
      "%3|1726666285.922|FAIL|my-python-producer#producer-9| [thrd:sasl_ssl://kafka-database-do-user-17641554-0.h.db.ondigitalocea]: sasl_ssl://kafka-database-do-user-17641554-0.h.db.ondigitalocean.com:25073/bootstrap: SSL handshake failed: error:0A000086:SSL routines::certificate verify failed: broker certificate could not be verified, verify that ssl.ca.location is correctly configured or root CA certificates are installed (install ca-certificates package) (after 19ms in state SSL_HANDSHAKE, 30 identical error(s) suppressed)\n",
      "%3|1726666314.960|FAIL|my-python-producer#producer-10| [thrd:sasl_ssl://kafka-database-do-user-17641554-0.h.db.ondigitalocea]: sasl_ssl://kafka-database-do-user-17641554-0.h.db.ondigitalocean.com:25073/bootstrap: SSL handshake failed: error:0A000086:SSL routines::certificate verify failed: broker certificate could not be verified, verify that ssl.ca.location is correctly configured or root CA certificates are installed (install ca-certificates package) (after 10ms in state SSL_HANDSHAKE)\n",
      "%3|1726666315.962|FAIL|my-python-producer#producer-10| [thrd:sasl_ssl://kafka-database-do-user-17641554-0.h.db.ondigitalocea]: sasl_ssl://kafka-database-do-user-17641554-0.h.db.ondigitalocean.com:25073/bootstrap: SSL handshake failed: error:0A000086:SSL routines::certificate verify failed: broker certificate could not be verified, verify that ssl.ca.location is correctly configured or root CA certificates are installed (install ca-certificates package) (after 13ms in state SSL_HANDSHAKE, 1 identical error(s) suppressed)\n",
      "%3|1726666345.966|FAIL|my-python-producer#producer-10| [thrd:sasl_ssl://kafka-database-do-user-17641554-0.h.db.ondigitalocea]: sasl_ssl://kafka-database-do-user-17641554-0.h.db.ondigitalocean.com:25073/bootstrap: SSL handshake failed: error:0A000086:SSL routines::certificate verify failed: broker certificate could not be verified, verify that ssl.ca.location is correctly configured or root CA certificates are installed (install ca-certificates package) (after 12ms in state SSL_HANDSHAKE, 30 identical error(s) suppressed)\n",
      "%3|1726666375.969|FAIL|my-python-producer#producer-10| [thrd:sasl_ssl://kafka-database-do-user-17641554-0.h.db.ondigitalocea]: sasl_ssl://kafka-database-do-user-17641554-0.h.db.ondigitalocean.com:25073/bootstrap: SSL handshake failed: error:0A000086:SSL routines::certificate verify failed: broker certificate could not be verified, verify that ssl.ca.location is correctly configured or root CA certificates are installed (install ca-certificates package) (after 11ms in state SSL_HANDSHAKE, 30 identical error(s) suppressed)\n",
      "%3|1726666405.976|FAIL|my-python-producer#producer-10| [thrd:sasl_ssl://kafka-database-do-user-17641554-0.h.db.ondigitalocea]: sasl_ssl://kafka-database-do-user-17641554-0.h.db.ondigitalocean.com:25073/bootstrap: SSL handshake failed: error:0A000086:SSL routines::certificate verify failed: broker certificate could not be verified, verify that ssl.ca.location is correctly configured or root CA certificates are installed (install ca-certificates package) (after 13ms in state SSL_HANDSHAKE, 30 identical error(s) suppressed)\n",
      "%3|1726666435.979|FAIL|my-python-producer#producer-10| [thrd:sasl_ssl://kafka-database-do-user-17641554-0.h.db.ondigitalocea]: sasl_ssl://kafka-database-do-user-17641554-0.h.db.ondigitalocean.com:25073/bootstrap: SSL handshake failed: error:0A000086:SSL routines::certificate verify failed: broker certificate could not be verified, verify that ssl.ca.location is correctly configured or root CA certificates are installed (install ca-certificates package) (after 12ms in state SSL_HANDSHAKE, 30 identical error(s) suppressed)\n",
      "%3|1726666465.981|FAIL|my-python-producer#producer-10| [thrd:sasl_ssl://kafka-database-do-user-17641554-0.h.db.ondigitalocea]: sasl_ssl://kafka-database-do-user-17641554-0.h.db.ondigitalocean.com:25073/bootstrap: SSL handshake failed: error:0A000086:SSL routines::certificate verify failed: broker certificate could not be verified, verify that ssl.ca.location is correctly configured or root CA certificates are installed (install ca-certificates package) (after 9ms in state SSL_HANDSHAKE, 30 identical error(s) suppressed)\n",
      "%3|1726666495.988|FAIL|my-python-producer#producer-10| [thrd:sasl_ssl://kafka-database-do-user-17641554-0.h.db.ondigitalocea]: sasl_ssl://kafka-database-do-user-17641554-0.h.db.ondigitalocean.com:25073/bootstrap: SSL handshake failed: error:0A000086:SSL routines::certificate verify failed: broker certificate could not be verified, verify that ssl.ca.location is correctly configured or root CA certificates are installed (install ca-certificates package) (after 12ms in state SSL_HANDSHAKE, 30 identical error(s) suppressed)\n",
      "%3|1726666525.989|FAIL|my-python-producer#producer-10| [thrd:sasl_ssl://kafka-database-do-user-17641554-0.h.db.ondigitalocea]: sasl_ssl://kafka-database-do-user-17641554-0.h.db.ondigitalocean.com:25073/bootstrap: SSL handshake failed: error:0A000086:SSL routines::certificate verify failed: broker certificate could not be verified, verify that ssl.ca.location is correctly configured or root CA certificates are installed (install ca-certificates package) (after 9ms in state SSL_HANDSHAKE, 30 identical error(s) suppressed)\n",
      "%3|1726666555.996|FAIL|my-python-producer#producer-10| [thrd:sasl_ssl://kafka-database-do-user-17641554-0.h.db.ondigitalocea]: sasl_ssl://kafka-database-do-user-17641554-0.h.db.ondigitalocean.com:25073/bootstrap: SSL handshake failed: error:0A000086:SSL routines::certificate verify failed: broker certificate could not be verified, verify that ssl.ca.location is correctly configured or root CA certificates are installed (install ca-certificates package) (after 10ms in state SSL_HANDSHAKE, 30 identical error(s) suppressed)\n",
      "%3|1726666585.999|FAIL|my-python-producer#producer-10| [thrd:sasl_ssl://kafka-database-do-user-17641554-0.h.db.ondigitalocea]: sasl_ssl://kafka-database-do-user-17641554-0.h.db.ondigitalocean.com:25073/bootstrap: SSL handshake failed: error:0A000086:SSL routines::certificate verify failed: broker certificate could not be verified, verify that ssl.ca.location is correctly configured or root CA certificates are installed (install ca-certificates package) (after 9ms in state SSL_HANDSHAKE, 30 identical error(s) suppressed)\n"
     ]
    },
    {
     "name": "stdout",
     "output_type": "stream",
     "text": [
      "Message delivery failed: KafkaError{code=_MSG_TIMED_OUT,val=-192,str=\"Local: Message timed out\"}\n",
      "Sent record to topic at time 2024-09-18 13:36:54.994026\n"
     ]
    },
    {
     "name": "stderr",
     "output_type": "stream",
     "text": [
      "%3|1726666616.004|FAIL|my-python-producer#producer-10| [thrd:sasl_ssl://kafka-database-do-user-17641554-0.h.db.ondigitalocea]: sasl_ssl://kafka-database-do-user-17641554-0.h.db.ondigitalocean.com:25073/bootstrap: SSL handshake failed: error:0A000086:SSL routines::certificate verify failed: broker certificate could not be verified, verify that ssl.ca.location is correctly configured or root CA certificates are installed (install ca-certificates package) (after 9ms in state SSL_HANDSHAKE, 30 identical error(s) suppressed)\n",
      "%3|1726666646.019|FAIL|my-python-producer#producer-10| [thrd:sasl_ssl://kafka-database-do-user-17641554-0.h.db.ondigitalocea]: sasl_ssl://kafka-database-do-user-17641554-0.h.db.ondigitalocean.com:25073/bootstrap: SSL handshake failed: error:0A000086:SSL routines::certificate verify failed: broker certificate could not be verified, verify that ssl.ca.location is correctly configured or root CA certificates are installed (install ca-certificates package) (after 12ms in state SSL_HANDSHAKE, 30 identical error(s) suppressed)\n",
      "%3|1726666675.116|FAIL|my-python-producer#producer-11| [thrd:sasl_ssl://kafka-database-do-user-17641554-0.h.db.ondigitalocea]: sasl_ssl://kafka-database-do-user-17641554-0.h.db.ondigitalocean.com:25073/bootstrap: SSL handshake failed: error:0A000086:SSL routines::certificate verify failed: broker certificate could not be verified, verify that ssl.ca.location is correctly configured or root CA certificates are installed (install ca-certificates package) (after 9ms in state SSL_HANDSHAKE)\n",
      "%3|1726666676.107|FAIL|my-python-producer#producer-11| [thrd:sasl_ssl://kafka-database-do-user-17641554-0.h.db.ondigitalocea]: sasl_ssl://kafka-database-do-user-17641554-0.h.db.ondigitalocean.com:25073/bootstrap: SSL handshake failed: error:0A000086:SSL routines::certificate verify failed: broker certificate could not be verified, verify that ssl.ca.location is correctly configured or root CA certificates are installed (install ca-certificates package) (after 9ms in state SSL_HANDSHAKE, 1 identical error(s) suppressed)\n",
      "%3|1726666706.122|FAIL|my-python-producer#producer-11| [thrd:sasl_ssl://kafka-database-do-user-17641554-0.h.db.ondigitalocea]: sasl_ssl://kafka-database-do-user-17641554-0.h.db.ondigitalocean.com:25073/bootstrap: SSL handshake failed: error:0A000086:SSL routines::certificate verify failed: broker certificate could not be verified, verify that ssl.ca.location is correctly configured or root CA certificates are installed (install ca-certificates package) (after 18ms in state SSL_HANDSHAKE, 30 identical error(s) suppressed)\n",
      "%3|1726666737.117|FAIL|my-python-producer#producer-11| [thrd:sasl_ssl://kafka-database-do-user-17641554-0.h.db.ondigitalocea]: sasl_ssl://kafka-database-do-user-17641554-0.h.db.ondigitalocean.com:25073/bootstrap: SSL handshake failed: error:0A000086:SSL routines::certificate verify failed: broker certificate could not be verified, verify that ssl.ca.location is correctly configured or root CA certificates are installed (install ca-certificates package) (after 9ms in state SSL_HANDSHAKE, 31 identical error(s) suppressed)\n",
      "%3|1726666767.130|FAIL|my-python-producer#producer-11| [thrd:sasl_ssl://kafka-database-do-user-17641554-0.h.db.ondigitalocea]: sasl_ssl://kafka-database-do-user-17641554-0.h.db.ondigitalocean.com:25073/bootstrap: SSL handshake failed: error:0A000086:SSL routines::certificate verify failed: broker certificate could not be verified, verify that ssl.ca.location is correctly configured or root CA certificates are installed (install ca-certificates package) (after 11ms in state SSL_HANDSHAKE, 30 identical error(s) suppressed)\n",
      "%3|1726666798.128|FAIL|my-python-producer#producer-11| [thrd:sasl_ssl://kafka-database-do-user-17641554-0.h.db.ondigitalocea]: sasl_ssl://kafka-database-do-user-17641554-0.h.db.ondigitalocean.com:25073/bootstrap: SSL handshake failed: error:0A000086:SSL routines::certificate verify failed: broker certificate could not be verified, verify that ssl.ca.location is correctly configured or root CA certificates are installed (install ca-certificates package) (after 11ms in state SSL_HANDSHAKE, 31 identical error(s) suppressed)\n",
      "%3|1726666828.131|FAIL|my-python-producer#producer-11| [thrd:sasl_ssl://kafka-database-do-user-17641554-0.h.db.ondigitalocea]: sasl_ssl://kafka-database-do-user-17641554-0.h.db.ondigitalocean.com:25073/bootstrap: SSL handshake failed: error:0A000086:SSL routines::certificate verify failed: broker certificate could not be verified, verify that ssl.ca.location is correctly configured or root CA certificates are installed (install ca-certificates package) (after 10ms in state SSL_HANDSHAKE, 30 identical error(s) suppressed)\n",
      "%3|1726666858.136|FAIL|my-python-producer#producer-11| [thrd:sasl_ssl://kafka-database-do-user-17641554-0.h.db.ondigitalocea]: sasl_ssl://kafka-database-do-user-17641554-0.h.db.ondigitalocean.com:25073/bootstrap: SSL handshake failed: error:0A000086:SSL routines::certificate verify failed: broker certificate could not be verified, verify that ssl.ca.location is correctly configured or root CA certificates are installed (install ca-certificates package) (after 10ms in state SSL_HANDSHAKE, 30 identical error(s) suppressed)\n",
      "%3|1726666888.140|FAIL|my-python-producer#producer-11| [thrd:sasl_ssl://kafka-database-do-user-17641554-0.h.db.ondigitalocea]: sasl_ssl://kafka-database-do-user-17641554-0.h.db.ondigitalocean.com:25073/bootstrap: SSL handshake failed: error:0A000086:SSL routines::certificate verify failed: broker certificate could not be verified, verify that ssl.ca.location is correctly configured or root CA certificates are installed (install ca-certificates package) (after 10ms in state SSL_HANDSHAKE, 30 identical error(s) suppressed)\n",
      "%3|1726666918.144|FAIL|my-python-producer#producer-11| [thrd:sasl_ssl://kafka-database-do-user-17641554-0.h.db.ondigitalocea]: sasl_ssl://kafka-database-do-user-17641554-0.h.db.ondigitalocean.com:25073/bootstrap: SSL handshake failed: error:0A000086:SSL routines::certificate verify failed: broker certificate could not be verified, verify that ssl.ca.location is correctly configured or root CA certificates are installed (install ca-certificates package) (after 9ms in state SSL_HANDSHAKE, 30 identical error(s) suppressed)\n",
      "%3|1726666948.149|FAIL|my-python-producer#producer-11| [thrd:sasl_ssl://kafka-database-do-user-17641554-0.h.db.ondigitalocea]: sasl_ssl://kafka-database-do-user-17641554-0.h.db.ondigitalocean.com:25073/bootstrap: SSL handshake failed: error:0A000086:SSL routines::certificate verify failed: broker certificate could not be verified, verify that ssl.ca.location is correctly configured or root CA certificates are installed (install ca-certificates package) (after 9ms in state SSL_HANDSHAKE, 30 identical error(s) suppressed)\n"
     ]
    },
    {
     "name": "stdout",
     "output_type": "stream",
     "text": [
      "Message delivery failed: KafkaError{code=_MSG_TIMED_OUT,val=-192,str=\"Local: Message timed out\"}\n",
      "Sent record to topic at time 2024-09-18 13:42:55.143445\n"
     ]
    },
    {
     "name": "stderr",
     "output_type": "stream",
     "text": [
      "%3|1726666978.156|FAIL|my-python-producer#producer-11| [thrd:sasl_ssl://kafka-database-do-user-17641554-0.h.db.ondigitalocea]: sasl_ssl://kafka-database-do-user-17641554-0.h.db.ondigitalocean.com:25073/bootstrap: SSL handshake failed: error:0A000086:SSL routines::certificate verify failed: broker certificate could not be verified, verify that ssl.ca.location is correctly configured or root CA certificates are installed (install ca-certificates package) (after 10ms in state SSL_HANDSHAKE, 30 identical error(s) suppressed)\n",
      "%3|1726667008.160|FAIL|my-python-producer#producer-11| [thrd:sasl_ssl://kafka-database-do-user-17641554-0.h.db.ondigitalocea]: sasl_ssl://kafka-database-do-user-17641554-0.h.db.ondigitalocean.com:25073/bootstrap: SSL handshake failed: error:0A000086:SSL routines::certificate verify failed: broker certificate could not be verified, verify that ssl.ca.location is correctly configured or root CA certificates are installed (install ca-certificates package) (after 9ms in state SSL_HANDSHAKE, 30 identical error(s) suppressed)\n",
      "%3|1726667035.233|FAIL|my-python-producer#producer-12| [thrd:sasl_ssl://kafka-database-do-user-17641554-0.h.db.ondigitalocea]: sasl_ssl://kafka-database-do-user-17641554-0.h.db.ondigitalocean.com:25073/bootstrap: SSL handshake failed: error:0A000086:SSL routines::certificate verify failed: broker certificate could not be verified, verify that ssl.ca.location is correctly configured or root CA certificates are installed (install ca-certificates package) (after 8ms in state SSL_HANDSHAKE)\n",
      "%3|1726667036.236|FAIL|my-python-producer#producer-12| [thrd:sasl_ssl://kafka-database-do-user-17641554-0.h.db.ondigitalocea]: sasl_ssl://kafka-database-do-user-17641554-0.h.db.ondigitalocean.com:25073/bootstrap: SSL handshake failed: error:0A000086:SSL routines::certificate verify failed: broker certificate could not be verified, verify that ssl.ca.location is correctly configured or root CA certificates are installed (install ca-certificates package) (after 12ms in state SSL_HANDSHAKE, 1 identical error(s) suppressed)\n",
      "%3|1726667066.242|FAIL|my-python-producer#producer-12| [thrd:sasl_ssl://kafka-database-do-user-17641554-0.h.db.ondigitalocea]: sasl_ssl://kafka-database-do-user-17641554-0.h.db.ondigitalocean.com:25073/bootstrap: SSL handshake failed: error:0A000086:SSL routines::certificate verify failed: broker certificate could not be verified, verify that ssl.ca.location is correctly configured or root CA certificates are installed (install ca-certificates package) (after 13ms in state SSL_HANDSHAKE, 30 identical error(s) suppressed)\n",
      "%3|1726667096.243|FAIL|my-python-producer#producer-12| [thrd:sasl_ssl://kafka-database-do-user-17641554-0.h.db.ondigitalocea]: sasl_ssl://kafka-database-do-user-17641554-0.h.db.ondigitalocean.com:25073/bootstrap: SSL handshake failed: error:0A000086:SSL routines::certificate verify failed: broker certificate could not be verified, verify that ssl.ca.location is correctly configured or root CA certificates are installed (install ca-certificates package) (after 10ms in state SSL_HANDSHAKE, 30 identical error(s) suppressed)\n",
      "%3|1726667126.246|FAIL|my-python-producer#producer-12| [thrd:sasl_ssl://kafka-database-do-user-17641554-0.h.db.ondigitalocea]: sasl_ssl://kafka-database-do-user-17641554-0.h.db.ondigitalocean.com:25073/bootstrap: SSL handshake failed: error:0A000086:SSL routines::certificate verify failed: broker certificate could not be verified, verify that ssl.ca.location is correctly configured or root CA certificates are installed (install ca-certificates package) (after 10ms in state SSL_HANDSHAKE, 30 identical error(s) suppressed)\n",
      "%3|1726667156.250|FAIL|my-python-producer#producer-12| [thrd:sasl_ssl://kafka-database-do-user-17641554-0.h.db.ondigitalocea]: sasl_ssl://kafka-database-do-user-17641554-0.h.db.ondigitalocean.com:25073/bootstrap: SSL handshake failed: error:0A000086:SSL routines::certificate verify failed: broker certificate could not be verified, verify that ssl.ca.location is correctly configured or root CA certificates are installed (install ca-certificates package) (after 9ms in state SSL_HANDSHAKE, 30 identical error(s) suppressed)\n",
      "%3|1726667186.266|FAIL|my-python-producer#producer-12| [thrd:sasl_ssl://kafka-database-do-user-17641554-0.h.db.ondigitalocea]: sasl_ssl://kafka-database-do-user-17641554-0.h.db.ondigitalocean.com:25073/bootstrap: SSL handshake failed: error:0A000086:SSL routines::certificate verify failed: broker certificate could not be verified, verify that ssl.ca.location is correctly configured or root CA certificates are installed (install ca-certificates package) (after 22ms in state SSL_HANDSHAKE, 30 identical error(s) suppressed)\n",
      "%3|1726667217.258|FAIL|my-python-producer#producer-12| [thrd:sasl_ssl://kafka-database-do-user-17641554-0.h.db.ondigitalocea]: sasl_ssl://kafka-database-do-user-17641554-0.h.db.ondigitalocean.com:25073/bootstrap: SSL handshake failed: error:0A000086:SSL routines::certificate verify failed: broker certificate could not be verified, verify that ssl.ca.location is correctly configured or root CA certificates are installed (install ca-certificates package) (after 9ms in state SSL_HANDSHAKE, 31 identical error(s) suppressed)\n",
      "%3|1726667247.263|FAIL|my-python-producer#producer-12| [thrd:sasl_ssl://kafka-database-do-user-17641554-0.h.db.ondigitalocea]: sasl_ssl://kafka-database-do-user-17641554-0.h.db.ondigitalocean.com:25073/bootstrap: SSL handshake failed: error:0A000086:SSL routines::certificate verify failed: broker certificate could not be verified, verify that ssl.ca.location is correctly configured or root CA certificates are installed (install ca-certificates package) (after 9ms in state SSL_HANDSHAKE, 30 identical error(s) suppressed)\n",
      "%3|1726667277.271|FAIL|my-python-producer#producer-12| [thrd:sasl_ssl://kafka-database-do-user-17641554-0.h.db.ondigitalocea]: sasl_ssl://kafka-database-do-user-17641554-0.h.db.ondigitalocean.com:25073/bootstrap: SSL handshake failed: error:0A000086:SSL routines::certificate verify failed: broker certificate could not be verified, verify that ssl.ca.location is correctly configured or root CA certificates are installed (install ca-certificates package) (after 12ms in state SSL_HANDSHAKE, 30 identical error(s) suppressed)\n",
      "%3|1726667307.277|FAIL|my-python-producer#producer-12| [thrd:sasl_ssl://kafka-database-do-user-17641554-0.h.db.ondigitalocea]: sasl_ssl://kafka-database-do-user-17641554-0.h.db.ondigitalocean.com:25073/bootstrap: SSL handshake failed: error:0A000086:SSL routines::certificate verify failed: broker certificate could not be verified, verify that ssl.ca.location is correctly configured or root CA certificates are installed (install ca-certificates package) (after 14ms in state SSL_HANDSHAKE, 30 identical error(s) suppressed)\n"
     ]
    },
    {
     "name": "stdout",
     "output_type": "stream",
     "text": [
      "Message delivery failed: KafkaError{code=_MSG_TIMED_OUT,val=-192,str=\"Local: Message timed out\"}\n",
      "Sent record to topic at time 2024-09-18 13:48:55.267733\n"
     ]
    },
    {
     "name": "stderr",
     "output_type": "stream",
     "text": [
      "%3|1726667337.279|FAIL|my-python-producer#producer-12| [thrd:sasl_ssl://kafka-database-do-user-17641554-0.h.db.ondigitalocea]: sasl_ssl://kafka-database-do-user-17641554-0.h.db.ondigitalocean.com:25073/bootstrap: SSL handshake failed: error:0A000086:SSL routines::certificate verify failed: broker certificate could not be verified, verify that ssl.ca.location is correctly configured or root CA certificates are installed (install ca-certificates package) (after 10ms in state SSL_HANDSHAKE, 30 identical error(s) suppressed)\n",
      "%3|1726667367.283|FAIL|my-python-producer#producer-12| [thrd:sasl_ssl://kafka-database-do-user-17641554-0.h.db.ondigitalocea]: sasl_ssl://kafka-database-do-user-17641554-0.h.db.ondigitalocean.com:25073/bootstrap: SSL handshake failed: error:0A000086:SSL routines::certificate verify failed: broker certificate could not be verified, verify that ssl.ca.location is correctly configured or root CA certificates are installed (install ca-certificates package) (after 9ms in state SSL_HANDSHAKE, 30 identical error(s) suppressed)\n",
      "%3|1726667395.389|FAIL|my-python-producer#producer-13| [thrd:sasl_ssl://kafka-database-do-user-17641554-0.h.db.ondigitalocea]: sasl_ssl://kafka-database-do-user-17641554-0.h.db.ondigitalocean.com:25073/bootstrap: SSL handshake failed: error:0A000086:SSL routines::certificate verify failed: broker certificate could not be verified, verify that ssl.ca.location is correctly configured or root CA certificates are installed (install ca-certificates package) (after 10ms in state SSL_HANDSHAKE)\n",
      "%3|1726667396.391|FAIL|my-python-producer#producer-13| [thrd:sasl_ssl://kafka-database-do-user-17641554-0.h.db.ondigitalocea]: sasl_ssl://kafka-database-do-user-17641554-0.h.db.ondigitalocean.com:25073/bootstrap: SSL handshake failed: error:0A000086:SSL routines::certificate verify failed: broker certificate could not be verified, verify that ssl.ca.location is correctly configured or root CA certificates are installed (install ca-certificates package) (after 13ms in state SSL_HANDSHAKE, 1 identical error(s) suppressed)\n",
      "%3|1726667426.392|FAIL|my-python-producer#producer-13| [thrd:sasl_ssl://kafka-database-do-user-17641554-0.h.db.ondigitalocea]: sasl_ssl://kafka-database-do-user-17641554-0.h.db.ondigitalocean.com:25073/bootstrap: SSL handshake failed: error:0A000086:SSL routines::certificate verify failed: broker certificate could not be verified, verify that ssl.ca.location is correctly configured or root CA certificates are installed (install ca-certificates package) (after 8ms in state SSL_HANDSHAKE, 30 identical error(s) suppressed)\n",
      "%3|1726667456.399|FAIL|my-python-producer#producer-13| [thrd:sasl_ssl://kafka-database-do-user-17641554-0.h.db.ondigitalocea]: sasl_ssl://kafka-database-do-user-17641554-0.h.db.ondigitalocean.com:25073/bootstrap: SSL handshake failed: error:0A000086:SSL routines::certificate verify failed: broker certificate could not be verified, verify that ssl.ca.location is correctly configured or root CA certificates are installed (install ca-certificates package) (after 11ms in state SSL_HANDSHAKE, 30 identical error(s) suppressed)\n",
      "%3|1726667486.401|FAIL|my-python-producer#producer-13| [thrd:sasl_ssl://kafka-database-do-user-17641554-0.h.db.ondigitalocea]: sasl_ssl://kafka-database-do-user-17641554-0.h.db.ondigitalocean.com:25073/bootstrap: SSL handshake failed: error:0A000086:SSL routines::certificate verify failed: broker certificate could not be verified, verify that ssl.ca.location is correctly configured or root CA certificates are installed (install ca-certificates package) (after 9ms in state SSL_HANDSHAKE, 30 identical error(s) suppressed)\n",
      "%3|1726667516.409|FAIL|my-python-producer#producer-13| [thrd:sasl_ssl://kafka-database-do-user-17641554-0.h.db.ondigitalocea]: sasl_ssl://kafka-database-do-user-17641554-0.h.db.ondigitalocean.com:25073/bootstrap: SSL handshake failed: error:0A000086:SSL routines::certificate verify failed: broker certificate could not be verified, verify that ssl.ca.location is correctly configured or root CA certificates are installed (install ca-certificates package) (after 9ms in state SSL_HANDSHAKE, 30 identical error(s) suppressed)\n",
      "%3|1726667546.416|FAIL|my-python-producer#producer-13| [thrd:sasl_ssl://kafka-database-do-user-17641554-0.h.db.ondigitalocea]: sasl_ssl://kafka-database-do-user-17641554-0.h.db.ondigitalocean.com:25073/bootstrap: SSL handshake failed: error:0A000086:SSL routines::certificate verify failed: broker certificate could not be verified, verify that ssl.ca.location is correctly configured or root CA certificates are installed (install ca-certificates package) (after 11ms in state SSL_HANDSHAKE, 30 identical error(s) suppressed)\n",
      "%3|1726667576.418|FAIL|my-python-producer#producer-13| [thrd:sasl_ssl://kafka-database-do-user-17641554-0.h.db.ondigitalocea]: sasl_ssl://kafka-database-do-user-17641554-0.h.db.ondigitalocean.com:25073/bootstrap: SSL handshake failed: error:0A000086:SSL routines::certificate verify failed: broker certificate could not be verified, verify that ssl.ca.location is correctly configured or root CA certificates are installed (install ca-certificates package) (after 9ms in state SSL_HANDSHAKE, 30 identical error(s) suppressed)\n",
      "%3|1726667606.423|FAIL|my-python-producer#producer-13| [thrd:sasl_ssl://kafka-database-do-user-17641554-0.h.db.ondigitalocea]: sasl_ssl://kafka-database-do-user-17641554-0.h.db.ondigitalocean.com:25073/bootstrap: SSL handshake failed: error:0A000086:SSL routines::certificate verify failed: broker certificate could not be verified, verify that ssl.ca.location is correctly configured or root CA certificates are installed (install ca-certificates package) (after 10ms in state SSL_HANDSHAKE, 30 identical error(s) suppressed)\n",
      "%3|1726667636.435|FAIL|my-python-producer#producer-13| [thrd:sasl_ssl://kafka-database-do-user-17641554-0.h.db.ondigitalocea]: sasl_ssl://kafka-database-do-user-17641554-0.h.db.ondigitalocean.com:25073/bootstrap: SSL handshake failed: error:0A000086:SSL routines::certificate verify failed: broker certificate could not be verified, verify that ssl.ca.location is correctly configured or root CA certificates are installed (install ca-certificates package) (after 12ms in state SSL_HANDSHAKE, 30 identical error(s) suppressed)\n",
      "%3|1726667667.432|FAIL|my-python-producer#producer-13| [thrd:sasl_ssl://kafka-database-do-user-17641554-0.h.db.ondigitalocea]: sasl_ssl://kafka-database-do-user-17641554-0.h.db.ondigitalocean.com:25073/bootstrap: SSL handshake failed: error:0A000086:SSL routines::certificate verify failed: broker certificate could not be verified, verify that ssl.ca.location is correctly configured or root CA certificates are installed (install ca-certificates package) (after 9ms in state SSL_HANDSHAKE, 31 identical error(s) suppressed)\n"
     ]
    },
    {
     "name": "stdout",
     "output_type": "stream",
     "text": [
      "Message delivery failed: KafkaError{code=_MSG_TIMED_OUT,val=-192,str=\"Local: Message timed out\"}\n",
      "Sent record to topic at time 2024-09-18 13:54:55.427668\n"
     ]
    },
    {
     "name": "stderr",
     "output_type": "stream",
     "text": [
      "%3|1726667697.444|FAIL|my-python-producer#producer-13| [thrd:sasl_ssl://kafka-database-do-user-17641554-0.h.db.ondigitalocea]: sasl_ssl://kafka-database-do-user-17641554-0.h.db.ondigitalocean.com:25073/bootstrap: SSL handshake failed: error:0A000086:SSL routines::certificate verify failed: broker certificate could not be verified, verify that ssl.ca.location is correctly configured or root CA certificates are installed (install ca-certificates package) (after 13ms in state SSL_HANDSHAKE, 30 identical error(s) suppressed)\n",
      "%3|1726667727.444|FAIL|my-python-producer#producer-13| [thrd:sasl_ssl://kafka-database-do-user-17641554-0.h.db.ondigitalocea]: sasl_ssl://kafka-database-do-user-17641554-0.h.db.ondigitalocean.com:25073/bootstrap: SSL handshake failed: error:0A000086:SSL routines::certificate verify failed: broker certificate could not be verified, verify that ssl.ca.location is correctly configured or root CA certificates are installed (install ca-certificates package) (after 10ms in state SSL_HANDSHAKE, 30 identical error(s) suppressed)\n",
      "%3|1726667755.500|FAIL|my-python-producer#producer-14| [thrd:sasl_ssl://kafka-database-do-user-17641554-0.h.db.ondigitalocea]: sasl_ssl://kafka-database-do-user-17641554-0.h.db.ondigitalocean.com:25073/bootstrap: SSL handshake failed: error:0A000086:SSL routines::certificate verify failed: broker certificate could not be verified, verify that ssl.ca.location is correctly configured or root CA certificates are installed (install ca-certificates package) (after 10ms in state SSL_HANDSHAKE)\n",
      "%3|1726667756.498|FAIL|my-python-producer#producer-14| [thrd:sasl_ssl://kafka-database-do-user-17641554-0.h.db.ondigitalocea]: sasl_ssl://kafka-database-do-user-17641554-0.h.db.ondigitalocean.com:25073/bootstrap: SSL handshake failed: error:0A000086:SSL routines::certificate verify failed: broker certificate could not be verified, verify that ssl.ca.location is correctly configured or root CA certificates are installed (install ca-certificates package) (after 10ms in state SSL_HANDSHAKE, 1 identical error(s) suppressed)\n",
      "%3|1726667786.506|FAIL|my-python-producer#producer-14| [thrd:sasl_ssl://kafka-database-do-user-17641554-0.h.db.ondigitalocea]: sasl_ssl://kafka-database-do-user-17641554-0.h.db.ondigitalocean.com:25073/bootstrap: SSL handshake failed: error:0A000086:SSL routines::certificate verify failed: broker certificate could not be verified, verify that ssl.ca.location is correctly configured or root CA certificates are installed (install ca-certificates package) (after 13ms in state SSL_HANDSHAKE, 30 identical error(s) suppressed)\n",
      "%3|1726667817.508|FAIL|my-python-producer#producer-14| [thrd:sasl_ssl://kafka-database-do-user-17641554-0.h.db.ondigitalocea]: sasl_ssl://kafka-database-do-user-17641554-0.h.db.ondigitalocean.com:25073/bootstrap: SSL handshake failed: error:0A000086:SSL routines::certificate verify failed: broker certificate could not be verified, verify that ssl.ca.location is correctly configured or root CA certificates are installed (install ca-certificates package) (after 9ms in state SSL_HANDSHAKE, 31 identical error(s) suppressed)\n",
      "%3|1726667847.512|FAIL|my-python-producer#producer-14| [thrd:sasl_ssl://kafka-database-do-user-17641554-0.h.db.ondigitalocea]: sasl_ssl://kafka-database-do-user-17641554-0.h.db.ondigitalocean.com:25073/bootstrap: SSL handshake failed: error:0A000086:SSL routines::certificate verify failed: broker certificate could not be verified, verify that ssl.ca.location is correctly configured or root CA certificates are installed (install ca-certificates package) (after 10ms in state SSL_HANDSHAKE, 30 identical error(s) suppressed)\n",
      "%3|1726667877.519|FAIL|my-python-producer#producer-14| [thrd:sasl_ssl://kafka-database-do-user-17641554-0.h.db.ondigitalocea]: sasl_ssl://kafka-database-do-user-17641554-0.h.db.ondigitalocean.com:25073/bootstrap: SSL handshake failed: error:0A000086:SSL routines::certificate verify failed: broker certificate could not be verified, verify that ssl.ca.location is correctly configured or root CA certificates are installed (install ca-certificates package) (after 12ms in state SSL_HANDSHAKE, 30 identical error(s) suppressed)\n",
      "%3|1726667907.524|FAIL|my-python-producer#producer-14| [thrd:sasl_ssl://kafka-database-do-user-17641554-0.h.db.ondigitalocea]: sasl_ssl://kafka-database-do-user-17641554-0.h.db.ondigitalocean.com:25073/bootstrap: SSL handshake failed: error:0A000086:SSL routines::certificate verify failed: broker certificate could not be verified, verify that ssl.ca.location is correctly configured or root CA certificates are installed (install ca-certificates package) (after 11ms in state SSL_HANDSHAKE, 30 identical error(s) suppressed)\n",
      "%3|1726667937.535|FAIL|my-python-producer#producer-14| [thrd:sasl_ssl://kafka-database-do-user-17641554-0.h.db.ondigitalocea]: sasl_ssl://kafka-database-do-user-17641554-0.h.db.ondigitalocean.com:25073/bootstrap: SSL handshake failed: error:0A000086:SSL routines::certificate verify failed: broker certificate could not be verified, verify that ssl.ca.location is correctly configured or root CA certificates are installed (install ca-certificates package) (after 11ms in state SSL_HANDSHAKE, 30 identical error(s) suppressed)\n",
      "%3|1726667967.538|FAIL|my-python-producer#producer-14| [thrd:sasl_ssl://kafka-database-do-user-17641554-0.h.db.ondigitalocea]: sasl_ssl://kafka-database-do-user-17641554-0.h.db.ondigitalocean.com:25073/bootstrap: SSL handshake failed: error:0A000086:SSL routines::certificate verify failed: broker certificate could not be verified, verify that ssl.ca.location is correctly configured or root CA certificates are installed (install ca-certificates package) (after 9ms in state SSL_HANDSHAKE, 30 identical error(s) suppressed)\n",
      "%3|1726667997.556|FAIL|my-python-producer#producer-14| [thrd:sasl_ssl://kafka-database-do-user-17641554-0.h.db.ondigitalocea]: sasl_ssl://kafka-database-do-user-17641554-0.h.db.ondigitalocean.com:25073/bootstrap: SSL handshake failed: error:0A000086:SSL routines::certificate verify failed: broker certificate could not be verified, verify that ssl.ca.location is correctly configured or root CA certificates are installed (install ca-certificates package) (after 12ms in state SSL_HANDSHAKE, 30 identical error(s) suppressed)\n",
      "%3|1726668028.541|FAIL|my-python-producer#producer-14| [thrd:sasl_ssl://kafka-database-do-user-17641554-0.h.db.ondigitalocea]: sasl_ssl://kafka-database-do-user-17641554-0.h.db.ondigitalocean.com:25073/bootstrap: SSL handshake failed: error:0A000086:SSL routines::certificate verify failed: broker certificate could not be verified, verify that ssl.ca.location is correctly configured or root CA certificates are installed (install ca-certificates package) (after 10ms in state SSL_HANDSHAKE, 31 identical error(s) suppressed)\n"
     ]
    },
    {
     "name": "stdout",
     "output_type": "stream",
     "text": [
      "Message delivery failed: KafkaError{code=_MSG_TIMED_OUT,val=-192,str=\"Local: Message timed out\"}\n",
      "Sent record to topic at time 2024-09-18 14:00:55.535332\n"
     ]
    },
    {
     "name": "stderr",
     "output_type": "stream",
     "text": [
      "%3|1726668058.549|FAIL|my-python-producer#producer-14| [thrd:sasl_ssl://kafka-database-do-user-17641554-0.h.db.ondigitalocea]: sasl_ssl://kafka-database-do-user-17641554-0.h.db.ondigitalocean.com:25073/bootstrap: SSL handshake failed: error:0A000086:SSL routines::certificate verify failed: broker certificate could not be verified, verify that ssl.ca.location is correctly configured or root CA certificates are installed (install ca-certificates package) (after 11ms in state SSL_HANDSHAKE, 30 identical error(s) suppressed)\n",
      "%3|1726668088.553|FAIL|my-python-producer#producer-14| [thrd:sasl_ssl://kafka-database-do-user-17641554-0.h.db.ondigitalocea]: sasl_ssl://kafka-database-do-user-17641554-0.h.db.ondigitalocean.com:25073/bootstrap: SSL handshake failed: error:0A000086:SSL routines::certificate verify failed: broker certificate could not be verified, verify that ssl.ca.location is correctly configured or root CA certificates are installed (install ca-certificates package) (after 10ms in state SSL_HANDSHAKE, 30 identical error(s) suppressed)\n",
      "%3|1726668115.610|FAIL|my-python-producer#producer-15| [thrd:sasl_ssl://kafka-database-do-user-17641554-0.h.db.ondigitalocea]: sasl_ssl://kafka-database-do-user-17641554-0.h.db.ondigitalocean.com:25073/bootstrap: SSL handshake failed: error:0A000086:SSL routines::certificate verify failed: broker certificate could not be verified, verify that ssl.ca.location is correctly configured or root CA certificates are installed (install ca-certificates package) (after 12ms in state SSL_HANDSHAKE)\n",
      "%3|1726668116.608|FAIL|my-python-producer#producer-15| [thrd:sasl_ssl://kafka-database-do-user-17641554-0.h.db.ondigitalocea]: sasl_ssl://kafka-database-do-user-17641554-0.h.db.ondigitalocean.com:25073/bootstrap: SSL handshake failed: error:0A000086:SSL routines::certificate verify failed: broker certificate could not be verified, verify that ssl.ca.location is correctly configured or root CA certificates are installed (install ca-certificates package) (after 11ms in state SSL_HANDSHAKE, 1 identical error(s) suppressed)\n",
      "%3|1726668146.613|FAIL|my-python-producer#producer-15| [thrd:sasl_ssl://kafka-database-do-user-17641554-0.h.db.ondigitalocea]: sasl_ssl://kafka-database-do-user-17641554-0.h.db.ondigitalocean.com:25073/bootstrap: SSL handshake failed: error:0A000086:SSL routines::certificate verify failed: broker certificate could not be verified, verify that ssl.ca.location is correctly configured or root CA certificates are installed (install ca-certificates package) (after 12ms in state SSL_HANDSHAKE, 30 identical error(s) suppressed)\n",
      "%3|1726668176.620|FAIL|my-python-producer#producer-15| [thrd:sasl_ssl://kafka-database-do-user-17641554-0.h.db.ondigitalocea]: sasl_ssl://kafka-database-do-user-17641554-0.h.db.ondigitalocean.com:25073/bootstrap: SSL handshake failed: error:0A000086:SSL routines::certificate verify failed: broker certificate could not be verified, verify that ssl.ca.location is correctly configured or root CA certificates are installed (install ca-certificates package) (after 14ms in state SSL_HANDSHAKE, 30 identical error(s) suppressed)\n",
      "%3|1726668207.621|FAIL|my-python-producer#producer-15| [thrd:sasl_ssl://kafka-database-do-user-17641554-0.h.db.ondigitalocea]: sasl_ssl://kafka-database-do-user-17641554-0.h.db.ondigitalocean.com:25073/bootstrap: SSL handshake failed: error:0A000086:SSL routines::certificate verify failed: broker certificate could not be verified, verify that ssl.ca.location is correctly configured or root CA certificates are installed (install ca-certificates package) (after 9ms in state SSL_HANDSHAKE, 31 identical error(s) suppressed)\n",
      "%3|1726668237.646|FAIL|my-python-producer#producer-15| [thrd:sasl_ssl://kafka-database-do-user-17641554-0.h.db.ondigitalocea]: sasl_ssl://kafka-database-do-user-17641554-0.h.db.ondigitalocean.com:25073/bootstrap: SSL handshake failed: error:0A000086:SSL routines::certificate verify failed: broker certificate could not be verified, verify that ssl.ca.location is correctly configured or root CA certificates are installed (install ca-certificates package) (after 13ms in state SSL_HANDSHAKE, 30 identical error(s) suppressed)\n",
      "%3|1726668268.631|FAIL|my-python-producer#producer-15| [thrd:sasl_ssl://kafka-database-do-user-17641554-0.h.db.ondigitalocea]: sasl_ssl://kafka-database-do-user-17641554-0.h.db.ondigitalocean.com:25073/bootstrap: SSL handshake failed: error:0A000086:SSL routines::certificate verify failed: broker certificate could not be verified, verify that ssl.ca.location is correctly configured or root CA certificates are installed (install ca-certificates package) (after 11ms in state SSL_HANDSHAKE, 31 identical error(s) suppressed)\n",
      "%3|1726668298.636|FAIL|my-python-producer#producer-15| [thrd:sasl_ssl://kafka-database-do-user-17641554-0.h.db.ondigitalocea]: sasl_ssl://kafka-database-do-user-17641554-0.h.db.ondigitalocean.com:25073/bootstrap: SSL handshake failed: error:0A000086:SSL routines::certificate verify failed: broker certificate could not be verified, verify that ssl.ca.location is correctly configured or root CA certificates are installed (install ca-certificates package) (after 11ms in state SSL_HANDSHAKE, 30 identical error(s) suppressed)\n",
      "%3|1726668328.639|FAIL|my-python-producer#producer-15| [thrd:sasl_ssl://kafka-database-do-user-17641554-0.h.db.ondigitalocea]: sasl_ssl://kafka-database-do-user-17641554-0.h.db.ondigitalocean.com:25073/bootstrap: SSL handshake failed: error:0A000086:SSL routines::certificate verify failed: broker certificate could not be verified, verify that ssl.ca.location is correctly configured or root CA certificates are installed (install ca-certificates package) (after 9ms in state SSL_HANDSHAKE, 30 identical error(s) suppressed)\n",
      "%3|1726668358.647|FAIL|my-python-producer#producer-15| [thrd:sasl_ssl://kafka-database-do-user-17641554-0.h.db.ondigitalocea]: sasl_ssl://kafka-database-do-user-17641554-0.h.db.ondigitalocean.com:25073/bootstrap: SSL handshake failed: error:0A000086:SSL routines::certificate verify failed: broker certificate could not be verified, verify that ssl.ca.location is correctly configured or root CA certificates are installed (install ca-certificates package) (after 12ms in state SSL_HANDSHAKE, 30 identical error(s) suppressed)\n",
      "%3|1726668388.649|FAIL|my-python-producer#producer-15| [thrd:sasl_ssl://kafka-database-do-user-17641554-0.h.db.ondigitalocea]: sasl_ssl://kafka-database-do-user-17641554-0.h.db.ondigitalocean.com:25073/bootstrap: SSL handshake failed: error:0A000086:SSL routines::certificate verify failed: broker certificate could not be verified, verify that ssl.ca.location is correctly configured or root CA certificates are installed (install ca-certificates package) (after 9ms in state SSL_HANDSHAKE, 30 identical error(s) suppressed)\n"
     ]
    },
    {
     "name": "stdout",
     "output_type": "stream",
     "text": [
      "Message delivery failed: KafkaError{code=_MSG_TIMED_OUT,val=-192,str=\"Local: Message timed out\"}\n",
      "Sent record to topic at time 2024-09-18 14:06:55.644430\n"
     ]
    },
    {
     "name": "stderr",
     "output_type": "stream",
     "text": [
      "%3|1726668418.656|FAIL|my-python-producer#producer-15| [thrd:sasl_ssl://kafka-database-do-user-17641554-0.h.db.ondigitalocea]: sasl_ssl://kafka-database-do-user-17641554-0.h.db.ondigitalocean.com:25073/bootstrap: SSL handshake failed: error:0A000086:SSL routines::certificate verify failed: broker certificate could not be verified, verify that ssl.ca.location is correctly configured or root CA certificates are installed (install ca-certificates package) (after 9ms in state SSL_HANDSHAKE, 30 identical error(s) suppressed)\n",
      "%3|1726668448.661|FAIL|my-python-producer#producer-15| [thrd:sasl_ssl://kafka-database-do-user-17641554-0.h.db.ondigitalocea]: sasl_ssl://kafka-database-do-user-17641554-0.h.db.ondigitalocean.com:25073/bootstrap: SSL handshake failed: error:0A000086:SSL routines::certificate verify failed: broker certificate could not be verified, verify that ssl.ca.location is correctly configured or root CA certificates are installed (install ca-certificates package) (after 9ms in state SSL_HANDSHAKE, 30 identical error(s) suppressed)\n",
      "%3|1726668475.738|FAIL|my-python-producer#producer-16| [thrd:sasl_ssl://kafka-database-do-user-17641554-0.h.db.ondigitalocea]: sasl_ssl://kafka-database-do-user-17641554-0.h.db.ondigitalocean.com:25073/bootstrap: SSL handshake failed: error:0A000086:SSL routines::certificate verify failed: broker certificate could not be verified, verify that ssl.ca.location is correctly configured or root CA certificates are installed (install ca-certificates package) (after 10ms in state SSL_HANDSHAKE)\n",
      "%3|1726668476.739|FAIL|my-python-producer#producer-16| [thrd:sasl_ssl://kafka-database-do-user-17641554-0.h.db.ondigitalocea]: sasl_ssl://kafka-database-do-user-17641554-0.h.db.ondigitalocean.com:25073/bootstrap: SSL handshake failed: error:0A000086:SSL routines::certificate verify failed: broker certificate could not be verified, verify that ssl.ca.location is correctly configured or root CA certificates are installed (install ca-certificates package) (after 12ms in state SSL_HANDSHAKE, 1 identical error(s) suppressed)\n",
      "%3|1726668506.742|FAIL|my-python-producer#producer-16| [thrd:sasl_ssl://kafka-database-do-user-17641554-0.h.db.ondigitalocea]: sasl_ssl://kafka-database-do-user-17641554-0.h.db.ondigitalocean.com:25073/bootstrap: SSL handshake failed: error:0A000086:SSL routines::certificate verify failed: broker certificate could not be verified, verify that ssl.ca.location is correctly configured or root CA certificates are installed (install ca-certificates package) (after 10ms in state SSL_HANDSHAKE, 30 identical error(s) suppressed)\n",
      "%3|1726668536.747|FAIL|my-python-producer#producer-16| [thrd:sasl_ssl://kafka-database-do-user-17641554-0.h.db.ondigitalocea]: sasl_ssl://kafka-database-do-user-17641554-0.h.db.ondigitalocean.com:25073/bootstrap: SSL handshake failed: error:0A000086:SSL routines::certificate verify failed: broker certificate could not be verified, verify that ssl.ca.location is correctly configured or root CA certificates are installed (install ca-certificates package) (after 11ms in state SSL_HANDSHAKE, 30 identical error(s) suppressed)\n",
      "%3|1726668566.753|FAIL|my-python-producer#producer-16| [thrd:sasl_ssl://kafka-database-do-user-17641554-0.h.db.ondigitalocea]: sasl_ssl://kafka-database-do-user-17641554-0.h.db.ondigitalocean.com:25073/bootstrap: SSL handshake failed: error:0A000086:SSL routines::certificate verify failed: broker certificate could not be verified, verify that ssl.ca.location is correctly configured or root CA certificates are installed (install ca-certificates package) (after 11ms in state SSL_HANDSHAKE, 30 identical error(s) suppressed)\n",
      "%3|1726668596.758|FAIL|my-python-producer#producer-16| [thrd:sasl_ssl://kafka-database-do-user-17641554-0.h.db.ondigitalocea]: sasl_ssl://kafka-database-do-user-17641554-0.h.db.ondigitalocean.com:25073/bootstrap: SSL handshake failed: error:0A000086:SSL routines::certificate verify failed: broker certificate could not be verified, verify that ssl.ca.location is correctly configured or root CA certificates are installed (install ca-certificates package) (after 10ms in state SSL_HANDSHAKE, 30 identical error(s) suppressed)\n",
      "%3|1726668626.761|FAIL|my-python-producer#producer-16| [thrd:sasl_ssl://kafka-database-do-user-17641554-0.h.db.ondigitalocea]: sasl_ssl://kafka-database-do-user-17641554-0.h.db.ondigitalocean.com:25073/bootstrap: SSL handshake failed: error:0A000086:SSL routines::certificate verify failed: broker certificate could not be verified, verify that ssl.ca.location is correctly configured or root CA certificates are installed (install ca-certificates package) (after 9ms in state SSL_HANDSHAKE, 30 identical error(s) suppressed)\n",
      "%3|1726668656.768|FAIL|my-python-producer#producer-16| [thrd:sasl_ssl://kafka-database-do-user-17641554-0.h.db.ondigitalocea]: sasl_ssl://kafka-database-do-user-17641554-0.h.db.ondigitalocean.com:25073/bootstrap: SSL handshake failed: error:0A000086:SSL routines::certificate verify failed: broker certificate could not be verified, verify that ssl.ca.location is correctly configured or root CA certificates are installed (install ca-certificates package) (after 10ms in state SSL_HANDSHAKE, 30 identical error(s) suppressed)\n",
      "%3|1726668686.771|FAIL|my-python-producer#producer-16| [thrd:sasl_ssl://kafka-database-do-user-17641554-0.h.db.ondigitalocea]: sasl_ssl://kafka-database-do-user-17641554-0.h.db.ondigitalocean.com:25073/bootstrap: SSL handshake failed: error:0A000086:SSL routines::certificate verify failed: broker certificate could not be verified, verify that ssl.ca.location is correctly configured or root CA certificates are installed (install ca-certificates package) (after 8ms in state SSL_HANDSHAKE, 30 identical error(s) suppressed)\n",
      "%3|1726668716.779|FAIL|my-python-producer#producer-16| [thrd:sasl_ssl://kafka-database-do-user-17641554-0.h.db.ondigitalocea]: sasl_ssl://kafka-database-do-user-17641554-0.h.db.ondigitalocean.com:25073/bootstrap: SSL handshake failed: error:0A000086:SSL routines::certificate verify failed: broker certificate could not be verified, verify that ssl.ca.location is correctly configured or root CA certificates are installed (install ca-certificates package) (after 12ms in state SSL_HANDSHAKE, 30 identical error(s) suppressed)\n",
      "%3|1726668746.785|FAIL|my-python-producer#producer-16| [thrd:sasl_ssl://kafka-database-do-user-17641554-0.h.db.ondigitalocea]: sasl_ssl://kafka-database-do-user-17641554-0.h.db.ondigitalocean.com:25073/bootstrap: SSL handshake failed: error:0A000086:SSL routines::certificate verify failed: broker certificate could not be verified, verify that ssl.ca.location is correctly configured or root CA certificates are installed (install ca-certificates package) (after 13ms in state SSL_HANDSHAKE, 30 identical error(s) suppressed)\n"
     ]
    },
    {
     "name": "stdout",
     "output_type": "stream",
     "text": [
      "Message delivery failed: KafkaError{code=_MSG_TIMED_OUT,val=-192,str=\"Local: Message timed out\"}\n",
      "Sent record to topic at time 2024-09-18 14:12:55.775976\n"
     ]
    },
    {
     "name": "stderr",
     "output_type": "stream",
     "text": [
      "%3|1726668776.792|FAIL|my-python-producer#producer-16| [thrd:sasl_ssl://kafka-database-do-user-17641554-0.h.db.ondigitalocea]: sasl_ssl://kafka-database-do-user-17641554-0.h.db.ondigitalocean.com:25073/bootstrap: SSL handshake failed: error:0A000086:SSL routines::certificate verify failed: broker certificate could not be verified, verify that ssl.ca.location is correctly configured or root CA certificates are installed (install ca-certificates package) (after 14ms in state SSL_HANDSHAKE, 30 identical error(s) suppressed)\n",
      "%3|1726668806.798|FAIL|my-python-producer#producer-16| [thrd:sasl_ssl://kafka-database-do-user-17641554-0.h.db.ondigitalocea]: sasl_ssl://kafka-database-do-user-17641554-0.h.db.ondigitalocean.com:25073/bootstrap: SSL handshake failed: error:0A000086:SSL routines::certificate verify failed: broker certificate could not be verified, verify that ssl.ca.location is correctly configured or root CA certificates are installed (install ca-certificates package) (after 9ms in state SSL_HANDSHAKE, 30 identical error(s) suppressed)\n",
      "%3|1726668835.888|FAIL|my-python-producer#producer-17| [thrd:sasl_ssl://kafka-database-do-user-17641554-0.h.db.ondigitalocea]: sasl_ssl://kafka-database-do-user-17641554-0.h.db.ondigitalocean.com:25073/bootstrap: SSL handshake failed: error:0A000086:SSL routines::certificate verify failed: broker certificate could not be verified, verify that ssl.ca.location is correctly configured or root CA certificates are installed (install ca-certificates package) (after 12ms in state SSL_HANDSHAKE)\n",
      "%3|1726668836.887|FAIL|my-python-producer#producer-17| [thrd:sasl_ssl://kafka-database-do-user-17641554-0.h.db.ondigitalocea]: sasl_ssl://kafka-database-do-user-17641554-0.h.db.ondigitalocean.com:25073/bootstrap: SSL handshake failed: error:0A000086:SSL routines::certificate verify failed: broker certificate could not be verified, verify that ssl.ca.location is correctly configured or root CA certificates are installed (install ca-certificates package) (after 12ms in state SSL_HANDSHAKE, 1 identical error(s) suppressed)\n",
      "%3|1726668866.892|FAIL|my-python-producer#producer-17| [thrd:sasl_ssl://kafka-database-do-user-17641554-0.h.db.ondigitalocea]: sasl_ssl://kafka-database-do-user-17641554-0.h.db.ondigitalocean.com:25073/bootstrap: SSL handshake failed: error:0A000086:SSL routines::certificate verify failed: broker certificate could not be verified, verify that ssl.ca.location is correctly configured or root CA certificates are installed (install ca-certificates package) (after 12ms in state SSL_HANDSHAKE, 30 identical error(s) suppressed)\n",
      "%3|1726668896.894|FAIL|my-python-producer#producer-17| [thrd:sasl_ssl://kafka-database-do-user-17641554-0.h.db.ondigitalocea]: sasl_ssl://kafka-database-do-user-17641554-0.h.db.ondigitalocean.com:25073/bootstrap: SSL handshake failed: error:0A000086:SSL routines::certificate verify failed: broker certificate could not be verified, verify that ssl.ca.location is correctly configured or root CA certificates are installed (install ca-certificates package) (after 10ms in state SSL_HANDSHAKE, 30 identical error(s) suppressed)\n",
      "%3|1726668926.901|FAIL|my-python-producer#producer-17| [thrd:sasl_ssl://kafka-database-do-user-17641554-0.h.db.ondigitalocea]: sasl_ssl://kafka-database-do-user-17641554-0.h.db.ondigitalocean.com:25073/bootstrap: SSL handshake failed: error:0A000086:SSL routines::certificate verify failed: broker certificate could not be verified, verify that ssl.ca.location is correctly configured or root CA certificates are installed (install ca-certificates package) (after 12ms in state SSL_HANDSHAKE, 30 identical error(s) suppressed)\n",
      "%3|1726668956.931|FAIL|my-python-producer#producer-17| [thrd:sasl_ssl://kafka-database-do-user-17641554-0.h.db.ondigitalocea]: sasl_ssl://kafka-database-do-user-17641554-0.h.db.ondigitalocean.com:25073/bootstrap: SSL handshake failed: error:0A000086:SSL routines::certificate verify failed: broker certificate could not be verified, verify that ssl.ca.location is correctly configured or root CA certificates are installed (install ca-certificates package) (after 28ms in state SSL_HANDSHAKE, 30 identical error(s) suppressed)\n",
      "%3|1726668987.911|FAIL|my-python-producer#producer-17| [thrd:sasl_ssl://kafka-database-do-user-17641554-0.h.db.ondigitalocea]: sasl_ssl://kafka-database-do-user-17641554-0.h.db.ondigitalocean.com:25073/bootstrap: SSL handshake failed: error:0A000086:SSL routines::certificate verify failed: broker certificate could not be verified, verify that ssl.ca.location is correctly configured or root CA certificates are installed (install ca-certificates package) (after 8ms in state SSL_HANDSHAKE, 31 identical error(s) suppressed)\n",
      "%3|1726669017.916|FAIL|my-python-producer#producer-17| [thrd:sasl_ssl://kafka-database-do-user-17641554-0.h.db.ondigitalocea]: sasl_ssl://kafka-database-do-user-17641554-0.h.db.ondigitalocean.com:25073/bootstrap: SSL handshake failed: error:0A000086:SSL routines::certificate verify failed: broker certificate could not be verified, verify that ssl.ca.location is correctly configured or root CA certificates are installed (install ca-certificates package) (after 9ms in state SSL_HANDSHAKE, 30 identical error(s) suppressed)\n",
      "%3|1726669047.922|FAIL|my-python-producer#producer-17| [thrd:sasl_ssl://kafka-database-do-user-17641554-0.h.db.ondigitalocea]: sasl_ssl://kafka-database-do-user-17641554-0.h.db.ondigitalocean.com:25073/bootstrap: SSL handshake failed: error:0A000086:SSL routines::certificate verify failed: broker certificate could not be verified, verify that ssl.ca.location is correctly configured or root CA certificates are installed (install ca-certificates package) (after 9ms in state SSL_HANDSHAKE, 30 identical error(s) suppressed)\n",
      "%3|1726669077.927|FAIL|my-python-producer#producer-17| [thrd:sasl_ssl://kafka-database-do-user-17641554-0.h.db.ondigitalocea]: sasl_ssl://kafka-database-do-user-17641554-0.h.db.ondigitalocean.com:25073/bootstrap: SSL handshake failed: error:0A000086:SSL routines::certificate verify failed: broker certificate could not be verified, verify that ssl.ca.location is correctly configured or root CA certificates are installed (install ca-certificates package) (after 9ms in state SSL_HANDSHAKE, 30 identical error(s) suppressed)\n",
      "%3|1726669107.933|FAIL|my-python-producer#producer-17| [thrd:sasl_ssl://kafka-database-do-user-17641554-0.h.db.ondigitalocea]: sasl_ssl://kafka-database-do-user-17641554-0.h.db.ondigitalocean.com:25073/bootstrap: SSL handshake failed: error:0A000086:SSL routines::certificate verify failed: broker certificate could not be verified, verify that ssl.ca.location is correctly configured or root CA certificates are installed (install ca-certificates package) (after 10ms in state SSL_HANDSHAKE, 30 identical error(s) suppressed)\n"
     ]
    },
    {
     "name": "stdout",
     "output_type": "stream",
     "text": [
      "Message delivery failed: KafkaError{code=_MSG_TIMED_OUT,val=-192,str=\"Local: Message timed out\"}\n",
      "Sent record to topic at time 2024-09-18 14:18:55.927102\n"
     ]
    },
    {
     "name": "stderr",
     "output_type": "stream",
     "text": [
      "%3|1726669137.941|FAIL|my-python-producer#producer-17| [thrd:sasl_ssl://kafka-database-do-user-17641554-0.h.db.ondigitalocea]: sasl_ssl://kafka-database-do-user-17641554-0.h.db.ondigitalocean.com:25073/bootstrap: SSL handshake failed: error:0A000086:SSL routines::certificate verify failed: broker certificate could not be verified, verify that ssl.ca.location is correctly configured or root CA certificates are installed (install ca-certificates package) (after 11ms in state SSL_HANDSHAKE, 31 identical error(s) suppressed)\n",
      "%3|1726669167.944|FAIL|my-python-producer#producer-17| [thrd:sasl_ssl://kafka-database-do-user-17641554-0.h.db.ondigitalocea]: sasl_ssl://kafka-database-do-user-17641554-0.h.db.ondigitalocean.com:25073/bootstrap: SSL handshake failed: error:0A000086:SSL routines::certificate verify failed: broker certificate could not be verified, verify that ssl.ca.location is correctly configured or root CA certificates are installed (install ca-certificates package) (after 9ms in state SSL_HANDSHAKE, 30 identical error(s) suppressed)\n",
      "%3|1726669195.999|FAIL|my-python-producer#producer-18| [thrd:sasl_ssl://kafka-database-do-user-17641554-0.h.db.ondigitalocea]: sasl_ssl://kafka-database-do-user-17641554-0.h.db.ondigitalocean.com:25073/bootstrap: SSL handshake failed: error:0A000086:SSL routines::certificate verify failed: broker certificate could not be verified, verify that ssl.ca.location is correctly configured or root CA certificates are installed (install ca-certificates package) (after 10ms in state SSL_HANDSHAKE)\n",
      "%3|1726669196.999|FAIL|my-python-producer#producer-18| [thrd:sasl_ssl://kafka-database-do-user-17641554-0.h.db.ondigitalocea]: sasl_ssl://kafka-database-do-user-17641554-0.h.db.ondigitalocean.com:25073/bootstrap: SSL handshake failed: error:0A000086:SSL routines::certificate verify failed: broker certificate could not be verified, verify that ssl.ca.location is correctly configured or root CA certificates are installed (install ca-certificates package) (after 11ms in state SSL_HANDSHAKE, 1 identical error(s) suppressed)\n",
      "%3|1726669227.004|FAIL|my-python-producer#producer-18| [thrd:sasl_ssl://kafka-database-do-user-17641554-0.h.db.ondigitalocea]: sasl_ssl://kafka-database-do-user-17641554-0.h.db.ondigitalocean.com:25073/bootstrap: SSL handshake failed: error:0A000086:SSL routines::certificate verify failed: broker certificate could not be verified, verify that ssl.ca.location is correctly configured or root CA certificates are installed (install ca-certificates package) (after 12ms in state SSL_HANDSHAKE, 30 identical error(s) suppressed)\n",
      "%3|1726669257.008|FAIL|my-python-producer#producer-18| [thrd:sasl_ssl://kafka-database-do-user-17641554-0.h.db.ondigitalocea]: sasl_ssl://kafka-database-do-user-17641554-0.h.db.ondigitalocean.com:25073/bootstrap: SSL handshake failed: error:0A000086:SSL routines::certificate verify failed: broker certificate could not be verified, verify that ssl.ca.location is correctly configured or root CA certificates are installed (install ca-certificates package) (after 12ms in state SSL_HANDSHAKE, 30 identical error(s) suppressed)\n",
      "%3|1726669287.009|FAIL|my-python-producer#producer-18| [thrd:sasl_ssl://kafka-database-do-user-17641554-0.h.db.ondigitalocea]: sasl_ssl://kafka-database-do-user-17641554-0.h.db.ondigitalocean.com:25073/bootstrap: SSL handshake failed: error:0A000086:SSL routines::certificate verify failed: broker certificate could not be verified, verify that ssl.ca.location is correctly configured or root CA certificates are installed (install ca-certificates package) (after 8ms in state SSL_HANDSHAKE, 30 identical error(s) suppressed)\n",
      "%3|1726669317.019|FAIL|my-python-producer#producer-18| [thrd:sasl_ssl://kafka-database-do-user-17641554-0.h.db.ondigitalocea]: sasl_ssl://kafka-database-do-user-17641554-0.h.db.ondigitalocean.com:25073/bootstrap: SSL handshake failed: error:0A000086:SSL routines::certificate verify failed: broker certificate could not be verified, verify that ssl.ca.location is correctly configured or root CA certificates are installed (install ca-certificates package) (after 14ms in state SSL_HANDSHAKE, 30 identical error(s) suppressed)\n",
      "%3|1726669347.022|FAIL|my-python-producer#producer-18| [thrd:sasl_ssl://kafka-database-do-user-17641554-0.h.db.ondigitalocea]: sasl_ssl://kafka-database-do-user-17641554-0.h.db.ondigitalocean.com:25073/bootstrap: SSL handshake failed: error:0A000086:SSL routines::certificate verify failed: broker certificate could not be verified, verify that ssl.ca.location is correctly configured or root CA certificates are installed (install ca-certificates package) (after 12ms in state SSL_HANDSHAKE, 30 identical error(s) suppressed)\n",
      "%3|1726669377.023|FAIL|my-python-producer#producer-18| [thrd:sasl_ssl://kafka-database-do-user-17641554-0.h.db.ondigitalocea]: sasl_ssl://kafka-database-do-user-17641554-0.h.db.ondigitalocean.com:25073/bootstrap: SSL handshake failed: error:0A000086:SSL routines::certificate verify failed: broker certificate could not be verified, verify that ssl.ca.location is correctly configured or root CA certificates are installed (install ca-certificates package) (after 9ms in state SSL_HANDSHAKE, 30 identical error(s) suppressed)\n",
      "%3|1726669407.034|FAIL|my-python-producer#producer-18| [thrd:sasl_ssl://kafka-database-do-user-17641554-0.h.db.ondigitalocea]: sasl_ssl://kafka-database-do-user-17641554-0.h.db.ondigitalocean.com:25073/bootstrap: SSL handshake failed: error:0A000086:SSL routines::certificate verify failed: broker certificate could not be verified, verify that ssl.ca.location is correctly configured or root CA certificates are installed (install ca-certificates package) (after 16ms in state SSL_HANDSHAKE, 30 identical error(s) suppressed)\n",
      "%3|1726669438.035|FAIL|my-python-producer#producer-18| [thrd:sasl_ssl://kafka-database-do-user-17641554-0.h.db.ondigitalocea]: sasl_ssl://kafka-database-do-user-17641554-0.h.db.ondigitalocean.com:25073/bootstrap: SSL handshake failed: error:0A000086:SSL routines::certificate verify failed: broker certificate could not be verified, verify that ssl.ca.location is correctly configured or root CA certificates are installed (install ca-certificates package) (after 10ms in state SSL_HANDSHAKE, 31 identical error(s) suppressed)\n",
      "%3|1726669468.042|FAIL|my-python-producer#producer-18| [thrd:sasl_ssl://kafka-database-do-user-17641554-0.h.db.ondigitalocea]: sasl_ssl://kafka-database-do-user-17641554-0.h.db.ondigitalocean.com:25073/bootstrap: SSL handshake failed: error:0A000086:SSL routines::certificate verify failed: broker certificate could not be verified, verify that ssl.ca.location is correctly configured or root CA certificates are installed (install ca-certificates package) (after 11ms in state SSL_HANDSHAKE, 30 identical error(s) suppressed)\n"
     ]
    },
    {
     "name": "stdout",
     "output_type": "stream",
     "text": [
      "Message delivery failed: KafkaError{code=_MSG_TIMED_OUT,val=-192,str=\"Local: Message timed out\"}\n",
      "Sent record to topic at time 2024-09-18 14:24:56.032734\n"
     ]
    },
    {
     "name": "stderr",
     "output_type": "stream",
     "text": [
      "%3|1726669498.043|FAIL|my-python-producer#producer-18| [thrd:sasl_ssl://kafka-database-do-user-17641554-0.h.db.ondigitalocea]: sasl_ssl://kafka-database-do-user-17641554-0.h.db.ondigitalocean.com:25073/bootstrap: SSL handshake failed: error:0A000086:SSL routines::certificate verify failed: broker certificate could not be verified, verify that ssl.ca.location is correctly configured or root CA certificates are installed (install ca-certificates package) (after 9ms in state SSL_HANDSHAKE, 30 identical error(s) suppressed)\n",
      "%3|1726669528.048|FAIL|my-python-producer#producer-18| [thrd:sasl_ssl://kafka-database-do-user-17641554-0.h.db.ondigitalocea]: sasl_ssl://kafka-database-do-user-17641554-0.h.db.ondigitalocean.com:25073/bootstrap: SSL handshake failed: error:0A000086:SSL routines::certificate verify failed: broker certificate could not be verified, verify that ssl.ca.location is correctly configured or root CA certificates are installed (install ca-certificates package) (after 9ms in state SSL_HANDSHAKE, 30 identical error(s) suppressed)\n",
      "%3|1726669556.095|FAIL|my-python-producer#producer-19| [thrd:sasl_ssl://kafka-database-do-user-17641554-0.h.db.ondigitalocea]: sasl_ssl://kafka-database-do-user-17641554-0.h.db.ondigitalocean.com:25073/bootstrap: SSL handshake failed: error:0A000086:SSL routines::certificate verify failed: broker certificate could not be verified, verify that ssl.ca.location is correctly configured or root CA certificates are installed (install ca-certificates package) (after 8ms in state SSL_HANDSHAKE)\n",
      "%3|1726669557.094|FAIL|my-python-producer#producer-19| [thrd:sasl_ssl://kafka-database-do-user-17641554-0.h.db.ondigitalocea]: sasl_ssl://kafka-database-do-user-17641554-0.h.db.ondigitalocean.com:25073/bootstrap: SSL handshake failed: error:0A000086:SSL routines::certificate verify failed: broker certificate could not be verified, verify that ssl.ca.location is correctly configured or root CA certificates are installed (install ca-certificates package) (after 8ms in state SSL_HANDSHAKE, 1 identical error(s) suppressed)\n",
      "%3|1726669587.098|FAIL|my-python-producer#producer-19| [thrd:sasl_ssl://kafka-database-do-user-17641554-0.h.db.ondigitalocea]: sasl_ssl://kafka-database-do-user-17641554-0.h.db.ondigitalocean.com:25073/bootstrap: SSL handshake failed: error:0A000086:SSL routines::certificate verify failed: broker certificate could not be verified, verify that ssl.ca.location is correctly configured or root CA certificates are installed (install ca-certificates package) (after 8ms in state SSL_HANDSHAKE, 30 identical error(s) suppressed)\n",
      "%3|1726669617.105|FAIL|my-python-producer#producer-19| [thrd:sasl_ssl://kafka-database-do-user-17641554-0.h.db.ondigitalocea]: sasl_ssl://kafka-database-do-user-17641554-0.h.db.ondigitalocean.com:25073/bootstrap: SSL handshake failed: error:0A000086:SSL routines::certificate verify failed: broker certificate could not be verified, verify that ssl.ca.location is correctly configured or root CA certificates are installed (install ca-certificates package) (after 9ms in state SSL_HANDSHAKE, 30 identical error(s) suppressed)\n",
      "%3|1726669647.113|FAIL|my-python-producer#producer-19| [thrd:sasl_ssl://kafka-database-do-user-17641554-0.h.db.ondigitalocea]: sasl_ssl://kafka-database-do-user-17641554-0.h.db.ondigitalocean.com:25073/bootstrap: SSL handshake failed: error:0A000086:SSL routines::certificate verify failed: broker certificate could not be verified, verify that ssl.ca.location is correctly configured or root CA certificates are installed (install ca-certificates package) (after 12ms in state SSL_HANDSHAKE, 30 identical error(s) suppressed)\n",
      "%3|1726669677.115|FAIL|my-python-producer#producer-19| [thrd:sasl_ssl://kafka-database-do-user-17641554-0.h.db.ondigitalocea]: sasl_ssl://kafka-database-do-user-17641554-0.h.db.ondigitalocean.com:25073/bootstrap: SSL handshake failed: error:0A000086:SSL routines::certificate verify failed: broker certificate could not be verified, verify that ssl.ca.location is correctly configured or root CA certificates are installed (install ca-certificates package) (after 10ms in state SSL_HANDSHAKE, 30 identical error(s) suppressed)\n",
      "%3|1726669707.121|FAIL|my-python-producer#producer-19| [thrd:sasl_ssl://kafka-database-do-user-17641554-0.h.db.ondigitalocea]: sasl_ssl://kafka-database-do-user-17641554-0.h.db.ondigitalocean.com:25073/bootstrap: SSL handshake failed: error:0A000086:SSL routines::certificate verify failed: broker certificate could not be verified, verify that ssl.ca.location is correctly configured or root CA certificates are installed (install ca-certificates package) (after 11ms in state SSL_HANDSHAKE, 30 identical error(s) suppressed)\n",
      "%3|1726669737.123|FAIL|my-python-producer#producer-19| [thrd:sasl_ssl://kafka-database-do-user-17641554-0.h.db.ondigitalocea]: sasl_ssl://kafka-database-do-user-17641554-0.h.db.ondigitalocean.com:25073/bootstrap: SSL handshake failed: error:0A000086:SSL routines::certificate verify failed: broker certificate could not be verified, verify that ssl.ca.location is correctly configured or root CA certificates are installed (install ca-certificates package) (after 8ms in state SSL_HANDSHAKE, 30 identical error(s) suppressed)\n",
      "%3|1726669767.131|FAIL|my-python-producer#producer-19| [thrd:sasl_ssl://kafka-database-do-user-17641554-0.h.db.ondigitalocea]: sasl_ssl://kafka-database-do-user-17641554-0.h.db.ondigitalocean.com:25073/bootstrap: SSL handshake failed: error:0A000086:SSL routines::certificate verify failed: broker certificate could not be verified, verify that ssl.ca.location is correctly configured or root CA certificates are installed (install ca-certificates package) (after 11ms in state SSL_HANDSHAKE, 30 identical error(s) suppressed)\n",
      "%3|1726669797.136|FAIL|my-python-producer#producer-19| [thrd:sasl_ssl://kafka-database-do-user-17641554-0.h.db.ondigitalocea]: sasl_ssl://kafka-database-do-user-17641554-0.h.db.ondigitalocean.com:25073/bootstrap: SSL handshake failed: error:0A000086:SSL routines::certificate verify failed: broker certificate could not be verified, verify that ssl.ca.location is correctly configured or root CA certificates are installed (install ca-certificates package) (after 11ms in state SSL_HANDSHAKE, 30 identical error(s) suppressed)\n",
      "%3|1726669827.138|FAIL|my-python-producer#producer-19| [thrd:sasl_ssl://kafka-database-do-user-17641554-0.h.db.ondigitalocea]: sasl_ssl://kafka-database-do-user-17641554-0.h.db.ondigitalocean.com:25073/bootstrap: SSL handshake failed: error:0A000086:SSL routines::certificate verify failed: broker certificate could not be verified, verify that ssl.ca.location is correctly configured or root CA certificates are installed (install ca-certificates package) (after 8ms in state SSL_HANDSHAKE, 30 identical error(s) suppressed)\n"
     ]
    },
    {
     "name": "stdout",
     "output_type": "stream",
     "text": [
      "Message delivery failed: KafkaError{code=_MSG_TIMED_OUT,val=-192,str=\"Local: Message timed out\"}\n",
      "Sent record to topic at time 2024-09-18 14:30:56.136465\n"
     ]
    },
    {
     "name": "stderr",
     "output_type": "stream",
     "text": [
      "%3|1726669857.147|FAIL|my-python-producer#producer-19| [thrd:sasl_ssl://kafka-database-do-user-17641554-0.h.db.ondigitalocea]: sasl_ssl://kafka-database-do-user-17641554-0.h.db.ondigitalocean.com:25073/bootstrap: SSL handshake failed: error:0A000086:SSL routines::certificate verify failed: broker certificate could not be verified, verify that ssl.ca.location is correctly configured or root CA certificates are installed (install ca-certificates package) (after 9ms in state SSL_HANDSHAKE, 31 identical error(s) suppressed)\n",
      "%3|1726669887.162|FAIL|my-python-producer#producer-19| [thrd:sasl_ssl://kafka-database-do-user-17641554-0.h.db.ondigitalocea]: sasl_ssl://kafka-database-do-user-17641554-0.h.db.ondigitalocean.com:25073/bootstrap: SSL handshake failed: error:0A000086:SSL routines::certificate verify failed: broker certificate could not be verified, verify that ssl.ca.location is correctly configured or root CA certificates are installed (install ca-certificates package) (after 11ms in state SSL_HANDSHAKE, 28 identical error(s) suppressed)\n",
      "%3|1726669916.212|FAIL|my-python-producer#producer-20| [thrd:sasl_ssl://kafka-database-do-user-17641554-0.h.db.ondigitalocea]: sasl_ssl://kafka-database-do-user-17641554-0.h.db.ondigitalocean.com:25073/bootstrap: SSL handshake failed: error:0A000086:SSL routines::certificate verify failed: broker certificate could not be verified, verify that ssl.ca.location is correctly configured or root CA certificates are installed (install ca-certificates package) (after 15ms in state SSL_HANDSHAKE)\n",
      "%3|1726669917.205|FAIL|my-python-producer#producer-20| [thrd:sasl_ssl://kafka-database-do-user-17641554-0.h.db.ondigitalocea]: sasl_ssl://kafka-database-do-user-17641554-0.h.db.ondigitalocean.com:25073/bootstrap: SSL handshake failed: error:0A000086:SSL routines::certificate verify failed: broker certificate could not be verified, verify that ssl.ca.location is correctly configured or root CA certificates are installed (install ca-certificates package) (after 9ms in state SSL_HANDSHAKE, 1 identical error(s) suppressed)\n",
      "%3|1726669947.211|FAIL|my-python-producer#producer-20| [thrd:sasl_ssl://kafka-database-do-user-17641554-0.h.db.ondigitalocea]: sasl_ssl://kafka-database-do-user-17641554-0.h.db.ondigitalocean.com:25073/bootstrap: SSL handshake failed: error:0A000086:SSL routines::certificate verify failed: broker certificate could not be verified, verify that ssl.ca.location is correctly configured or root CA certificates are installed (install ca-certificates package) (after 10ms in state SSL_HANDSHAKE, 30 identical error(s) suppressed)\n",
      "%3|1726669977.216|FAIL|my-python-producer#producer-20| [thrd:sasl_ssl://kafka-database-do-user-17641554-0.h.db.ondigitalocea]: sasl_ssl://kafka-database-do-user-17641554-0.h.db.ondigitalocean.com:25073/bootstrap: SSL handshake failed: error:0A000086:SSL routines::certificate verify failed: broker certificate could not be verified, verify that ssl.ca.location is correctly configured or root CA certificates are installed (install ca-certificates package) (after 9ms in state SSL_HANDSHAKE, 30 identical error(s) suppressed)\n",
      "%3|1726670007.224|FAIL|my-python-producer#producer-20| [thrd:sasl_ssl://kafka-database-do-user-17641554-0.h.db.ondigitalocea]: sasl_ssl://kafka-database-do-user-17641554-0.h.db.ondigitalocean.com:25073/bootstrap: SSL handshake failed: error:0A000086:SSL routines::certificate verify failed: broker certificate could not be verified, verify that ssl.ca.location is correctly configured or root CA certificates are installed (install ca-certificates package) (after 13ms in state SSL_HANDSHAKE, 30 identical error(s) suppressed)\n",
      "%3|1726670037.225|FAIL|my-python-producer#producer-20| [thrd:sasl_ssl://kafka-database-do-user-17641554-0.h.db.ondigitalocea]: sasl_ssl://kafka-database-do-user-17641554-0.h.db.ondigitalocean.com:25073/bootstrap: SSL handshake failed: error:0A000086:SSL routines::certificate verify failed: broker certificate could not be verified, verify that ssl.ca.location is correctly configured or root CA certificates are installed (install ca-certificates package) (after 10ms in state SSL_HANDSHAKE, 30 identical error(s) suppressed)\n",
      "%3|1726670067.228|FAIL|my-python-producer#producer-20| [thrd:sasl_ssl://kafka-database-do-user-17641554-0.h.db.ondigitalocea]: sasl_ssl://kafka-database-do-user-17641554-0.h.db.ondigitalocean.com:25073/bootstrap: SSL handshake failed: error:0A000086:SSL routines::certificate verify failed: broker certificate could not be verified, verify that ssl.ca.location is correctly configured or root CA certificates are installed (install ca-certificates package) (after 9ms in state SSL_HANDSHAKE, 30 identical error(s) suppressed)\n",
      "%3|1726670097.232|FAIL|my-python-producer#producer-20| [thrd:sasl_ssl://kafka-database-do-user-17641554-0.h.db.ondigitalocea]: sasl_ssl://kafka-database-do-user-17641554-0.h.db.ondigitalocean.com:25073/bootstrap: SSL handshake failed: error:0A000086:SSL routines::certificate verify failed: broker certificate could not be verified, verify that ssl.ca.location is correctly configured or root CA certificates are installed (install ca-certificates package) (after 9ms in state SSL_HANDSHAKE, 30 identical error(s) suppressed)\n",
      "%3|1726670127.239|FAIL|my-python-producer#producer-20| [thrd:sasl_ssl://kafka-database-do-user-17641554-0.h.db.ondigitalocea]: sasl_ssl://kafka-database-do-user-17641554-0.h.db.ondigitalocean.com:25073/bootstrap: SSL handshake failed: error:0A000086:SSL routines::certificate verify failed: broker certificate could not be verified, verify that ssl.ca.location is correctly configured or root CA certificates are installed (install ca-certificates package) (after 11ms in state SSL_HANDSHAKE, 30 identical error(s) suppressed)\n",
      "%3|1726670157.247|FAIL|my-python-producer#producer-20| [thrd:sasl_ssl://kafka-database-do-user-17641554-0.h.db.ondigitalocea]: sasl_ssl://kafka-database-do-user-17641554-0.h.db.ondigitalocean.com:25073/bootstrap: SSL handshake failed: error:0A000086:SSL routines::certificate verify failed: broker certificate could not be verified, verify that ssl.ca.location is correctly configured or root CA certificates are installed (install ca-certificates package) (after 13ms in state SSL_HANDSHAKE, 30 identical error(s) suppressed)\n",
      "%3|1726670187.253|FAIL|my-python-producer#producer-20| [thrd:sasl_ssl://kafka-database-do-user-17641554-0.h.db.ondigitalocea]: sasl_ssl://kafka-database-do-user-17641554-0.h.db.ondigitalocean.com:25073/bootstrap: SSL handshake failed: error:0A000086:SSL routines::certificate verify failed: broker certificate could not be verified, verify that ssl.ca.location is correctly configured or root CA certificates are installed (install ca-certificates package) (after 10ms in state SSL_HANDSHAKE, 30 identical error(s) suppressed)\n"
     ]
    },
    {
     "name": "stdout",
     "output_type": "stream",
     "text": [
      "Message delivery failed: KafkaError{code=_MSG_TIMED_OUT,val=-192,str=\"Local: Message timed out\"}\n",
      "Sent record to topic at time 2024-09-18 14:36:56.247054\n"
     ]
    },
    {
     "name": "stderr",
     "output_type": "stream",
     "text": [
      "%3|1726670217.259|FAIL|my-python-producer#producer-20| [thrd:sasl_ssl://kafka-database-do-user-17641554-0.h.db.ondigitalocea]: sasl_ssl://kafka-database-do-user-17641554-0.h.db.ondigitalocean.com:25073/bootstrap: SSL handshake failed: error:0A000086:SSL routines::certificate verify failed: broker certificate could not be verified, verify that ssl.ca.location is correctly configured or root CA certificates are installed (install ca-certificates package) (after 9ms in state SSL_HANDSHAKE, 31 identical error(s) suppressed)\n",
      "%3|1726670247.263|FAIL|my-python-producer#producer-20| [thrd:sasl_ssl://kafka-database-do-user-17641554-0.h.db.ondigitalocea]: sasl_ssl://kafka-database-do-user-17641554-0.h.db.ondigitalocean.com:25073/bootstrap: SSL handshake failed: error:0A000086:SSL routines::certificate verify failed: broker certificate could not be verified, verify that ssl.ca.location is correctly configured or root CA certificates are installed (install ca-certificates package) (after 9ms in state SSL_HANDSHAKE, 30 identical error(s) suppressed)\n",
      "%3|1726670276.330|FAIL|my-python-producer#producer-21| [thrd:sasl_ssl://kafka-database-do-user-17641554-0.h.db.ondigitalocea]: sasl_ssl://kafka-database-do-user-17641554-0.h.db.ondigitalocean.com:25073/bootstrap: SSL handshake failed: error:0A000086:SSL routines::certificate verify failed: broker certificate could not be verified, verify that ssl.ca.location is correctly configured or root CA certificates are installed (install ca-certificates package) (after 11ms in state SSL_HANDSHAKE)\n",
      "%3|1726670277.329|FAIL|my-python-producer#producer-21| [thrd:sasl_ssl://kafka-database-do-user-17641554-0.h.db.ondigitalocea]: sasl_ssl://kafka-database-do-user-17641554-0.h.db.ondigitalocean.com:25073/bootstrap: SSL handshake failed: error:0A000086:SSL routines::certificate verify failed: broker certificate could not be verified, verify that ssl.ca.location is correctly configured or root CA certificates are installed (install ca-certificates package) (after 12ms in state SSL_HANDSHAKE, 1 identical error(s) suppressed)\n",
      "%3|1726670307.331|FAIL|my-python-producer#producer-21| [thrd:sasl_ssl://kafka-database-do-user-17641554-0.h.db.ondigitalocea]: sasl_ssl://kafka-database-do-user-17641554-0.h.db.ondigitalocean.com:25073/bootstrap: SSL handshake failed: error:0A000086:SSL routines::certificate verify failed: broker certificate could not be verified, verify that ssl.ca.location is correctly configured or root CA certificates are installed (install ca-certificates package) (after 8ms in state SSL_HANDSHAKE, 30 identical error(s) suppressed)\n",
      "%3|1726670337.335|FAIL|my-python-producer#producer-21| [thrd:sasl_ssl://kafka-database-do-user-17641554-0.h.db.ondigitalocea]: sasl_ssl://kafka-database-do-user-17641554-0.h.db.ondigitalocean.com:25073/bootstrap: SSL handshake failed: error:0A000086:SSL routines::certificate verify failed: broker certificate could not be verified, verify that ssl.ca.location is correctly configured or root CA certificates are installed (install ca-certificates package) (after 9ms in state SSL_HANDSHAKE, 30 identical error(s) suppressed)\n",
      "%3|1726670367.343|FAIL|my-python-producer#producer-21| [thrd:sasl_ssl://kafka-database-do-user-17641554-0.h.db.ondigitalocea]: sasl_ssl://kafka-database-do-user-17641554-0.h.db.ondigitalocean.com:25073/bootstrap: SSL handshake failed: error:0A000086:SSL routines::certificate verify failed: broker certificate could not be verified, verify that ssl.ca.location is correctly configured or root CA certificates are installed (install ca-certificates package) (after 8ms in state SSL_HANDSHAKE, 30 identical error(s) suppressed)\n",
      "%3|1726670397.349|FAIL|my-python-producer#producer-21| [thrd:sasl_ssl://kafka-database-do-user-17641554-0.h.db.ondigitalocea]: sasl_ssl://kafka-database-do-user-17641554-0.h.db.ondigitalocean.com:25073/bootstrap: SSL handshake failed: error:0A000086:SSL routines::certificate verify failed: broker certificate could not be verified, verify that ssl.ca.location is correctly configured or root CA certificates are installed (install ca-certificates package) (after 10ms in state SSL_HANDSHAKE, 30 identical error(s) suppressed)\n",
      "%3|1726670427.353|FAIL|my-python-producer#producer-21| [thrd:sasl_ssl://kafka-database-do-user-17641554-0.h.db.ondigitalocea]: sasl_ssl://kafka-database-do-user-17641554-0.h.db.ondigitalocean.com:25073/bootstrap: SSL handshake failed: error:0A000086:SSL routines::certificate verify failed: broker certificate could not be verified, verify that ssl.ca.location is correctly configured or root CA certificates are installed (install ca-certificates package) (after 8ms in state SSL_HANDSHAKE, 30 identical error(s) suppressed)\n",
      "%3|1726670457.362|FAIL|my-python-producer#producer-21| [thrd:sasl_ssl://kafka-database-do-user-17641554-0.h.db.ondigitalocea]: sasl_ssl://kafka-database-do-user-17641554-0.h.db.ondigitalocean.com:25073/bootstrap: SSL handshake failed: error:0A000086:SSL routines::certificate verify failed: broker certificate could not be verified, verify that ssl.ca.location is correctly configured or root CA certificates are installed (install ca-certificates package) (after 9ms in state SSL_HANDSHAKE, 30 identical error(s) suppressed)\n",
      "%3|1726670487.366|FAIL|my-python-producer#producer-21| [thrd:sasl_ssl://kafka-database-do-user-17641554-0.h.db.ondigitalocea]: sasl_ssl://kafka-database-do-user-17641554-0.h.db.ondigitalocean.com:25073/bootstrap: SSL handshake failed: error:0A000086:SSL routines::certificate verify failed: broker certificate could not be verified, verify that ssl.ca.location is correctly configured or root CA certificates are installed (install ca-certificates package) (after 8ms in state SSL_HANDSHAKE, 30 identical error(s) suppressed)\n",
      "%3|1726670517.372|FAIL|my-python-producer#producer-21| [thrd:sasl_ssl://kafka-database-do-user-17641554-0.h.db.ondigitalocea]: sasl_ssl://kafka-database-do-user-17641554-0.h.db.ondigitalocean.com:25073/bootstrap: SSL handshake failed: error:0A000086:SSL routines::certificate verify failed: broker certificate could not be verified, verify that ssl.ca.location is correctly configured or root CA certificates are installed (install ca-certificates package) (after 10ms in state SSL_HANDSHAKE, 30 identical error(s) suppressed)\n",
      "%3|1726670547.376|FAIL|my-python-producer#producer-21| [thrd:sasl_ssl://kafka-database-do-user-17641554-0.h.db.ondigitalocea]: sasl_ssl://kafka-database-do-user-17641554-0.h.db.ondigitalocean.com:25073/bootstrap: SSL handshake failed: error:0A000086:SSL routines::certificate verify failed: broker certificate could not be verified, verify that ssl.ca.location is correctly configured or root CA certificates are installed (install ca-certificates package) (after 9ms in state SSL_HANDSHAKE, 30 identical error(s) suppressed)\n"
     ]
    },
    {
     "name": "stdout",
     "output_type": "stream",
     "text": [
      "Message delivery failed: KafkaError{code=_MSG_TIMED_OUT,val=-192,str=\"Local: Message timed out\"}\n",
      "Sent record to topic at time 2024-09-18 14:42:56.369909\n"
     ]
    },
    {
     "name": "stderr",
     "output_type": "stream",
     "text": [
      "%3|1726670577.380|FAIL|my-python-producer#producer-21| [thrd:sasl_ssl://kafka-database-do-user-17641554-0.h.db.ondigitalocea]: sasl_ssl://kafka-database-do-user-17641554-0.h.db.ondigitalocean.com:25073/bootstrap: SSL handshake failed: error:0A000086:SSL routines::certificate verify failed: broker certificate could not be verified, verify that ssl.ca.location is correctly configured or root CA certificates are installed (install ca-certificates package) (after 8ms in state SSL_HANDSHAKE, 31 identical error(s) suppressed)\n",
      "%3|1726670607.389|FAIL|my-python-producer#producer-21| [thrd:sasl_ssl://kafka-database-do-user-17641554-0.h.db.ondigitalocea]: sasl_ssl://kafka-database-do-user-17641554-0.h.db.ondigitalocean.com:25073/bootstrap: SSL handshake failed: error:0A000086:SSL routines::certificate verify failed: broker certificate could not be verified, verify that ssl.ca.location is correctly configured or root CA certificates are installed (install ca-certificates package) (after 11ms in state SSL_HANDSHAKE, 30 identical error(s) suppressed)\n",
      "%3|1726670636.454|FAIL|my-python-producer#producer-22| [thrd:sasl_ssl://kafka-database-do-user-17641554-0.h.db.ondigitalocea]: sasl_ssl://kafka-database-do-user-17641554-0.h.db.ondigitalocean.com:25073/bootstrap: SSL handshake failed: error:0A000086:SSL routines::certificate verify failed: broker certificate could not be verified, verify that ssl.ca.location is correctly configured or root CA certificates are installed (install ca-certificates package) (after 8ms in state SSL_HANDSHAKE)\n",
      "%3|1726670637.455|FAIL|my-python-producer#producer-22| [thrd:sasl_ssl://kafka-database-do-user-17641554-0.h.db.ondigitalocea]: sasl_ssl://kafka-database-do-user-17641554-0.h.db.ondigitalocean.com:25073/bootstrap: SSL handshake failed: error:0A000086:SSL routines::certificate verify failed: broker certificate could not be verified, verify that ssl.ca.location is correctly configured or root CA certificates are installed (install ca-certificates package) (after 10ms in state SSL_HANDSHAKE, 1 identical error(s) suppressed)\n",
      "%3|1726670667.458|FAIL|my-python-producer#producer-22| [thrd:sasl_ssl://kafka-database-do-user-17641554-0.h.db.ondigitalocea]: sasl_ssl://kafka-database-do-user-17641554-0.h.db.ondigitalocean.com:25073/bootstrap: SSL handshake failed: error:0A000086:SSL routines::certificate verify failed: broker certificate could not be verified, verify that ssl.ca.location is correctly configured or root CA certificates are installed (install ca-certificates package) (after 9ms in state SSL_HANDSHAKE, 30 identical error(s) suppressed)\n",
      "%3|1726670697.464|FAIL|my-python-producer#producer-22| [thrd:sasl_ssl://kafka-database-do-user-17641554-0.h.db.ondigitalocea]: sasl_ssl://kafka-database-do-user-17641554-0.h.db.ondigitalocean.com:25073/bootstrap: SSL handshake failed: error:0A000086:SSL routines::certificate verify failed: broker certificate could not be verified, verify that ssl.ca.location is correctly configured or root CA certificates are installed (install ca-certificates package) (after 11ms in state SSL_HANDSHAKE, 30 identical error(s) suppressed)\n",
      "%3|1726670727.473|FAIL|my-python-producer#producer-22| [thrd:sasl_ssl://kafka-database-do-user-17641554-0.h.db.ondigitalocea]: sasl_ssl://kafka-database-do-user-17641554-0.h.db.ondigitalocean.com:25073/bootstrap: SSL handshake failed: error:0A000086:SSL routines::certificate verify failed: broker certificate could not be verified, verify that ssl.ca.location is correctly configured or root CA certificates are installed (install ca-certificates package) (after 14ms in state SSL_HANDSHAKE, 30 identical error(s) suppressed)\n",
      "%3|1726670757.477|FAIL|my-python-producer#producer-22| [thrd:sasl_ssl://kafka-database-do-user-17641554-0.h.db.ondigitalocea]: sasl_ssl://kafka-database-do-user-17641554-0.h.db.ondigitalocean.com:25073/bootstrap: SSL handshake failed: error:0A000086:SSL routines::certificate verify failed: broker certificate could not be verified, verify that ssl.ca.location is correctly configured or root CA certificates are installed (install ca-certificates package) (after 11ms in state SSL_HANDSHAKE, 30 identical error(s) suppressed)\n"
     ]
    }
   ],
   "source": [
    "while True:\n",
    "    tables = query_api.query(query=query, org=org)\n",
    "    records = []\n",
    "    for table in tables:\n",
    "        for record in table.records:\n",
    "            records.append({\n",
    "                'time': record.get_time(),\n",
    "                '_value': record.get_value(),\n",
    "                '_field': record.get_field(),\n",
    "                '_measurement': record.get_measurement(),\n",
    "                'tags': record.values  # Extract tag values if needed\n",
    "            })\n",
    "\n",
    "    df = pd.DataFrame(records)\n",
    "    df = df.sort_values(by=\"time\")\n",
    "\n",
    "    df = df.drop([\"time\"],axis = 1)\n",
    "    producer = Producer(conf)\n",
    "    key = str(0).encode()  # Here, '0' is just an example; it can be any unique identifier\n",
    "    df_dict = df.to_dict()\n",
    "    data = json.dumps(df_dict, default=str).encode('utf-8')\n",
    "    producer.produce(topic, key=key, value=data, callback=delivery_report)\n",
    "    producer.flush()\n",
    "    #producer.send(topic=\"trade_data\", key=key, value=data)\n",
    "    print(f'Sent record to topic at time {dt.datetime.utcnow()}')\n",
    "    sleep(60)"
   ]
  },
  {
   "cell_type": "code",
   "execution_count": null,
   "id": "d7946e33-62b8-4519-b8d1-920a6f9b2f2b",
   "metadata": {},
   "outputs": [],
   "source": []
  }
 ],
 "metadata": {
  "kernelspec": {
   "display_name": "Python (trading_producer)",
   "language": "python",
   "name": "myenv"
  },
  "language_info": {
   "codemirror_mode": {
    "name": "ipython",
    "version": 3
   },
   "file_extension": ".py",
   "mimetype": "text/x-python",
   "name": "python",
   "nbconvert_exporter": "python",
   "pygments_lexer": "ipython3",
   "version": "3.9.20"
  }
 },
 "nbformat": 4,
 "nbformat_minor": 5
}
