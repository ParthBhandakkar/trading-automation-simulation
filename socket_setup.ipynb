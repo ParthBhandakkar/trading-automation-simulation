{
 "cells": [
  {
   "cell_type": "code",
   "execution_count": 1,
   "id": "3e6cfeb3-2458-4c03-8fb1-752d66269e5c",
   "metadata": {},
   "outputs": [
    {
     "name": "stdout",
     "output_type": "stream",
     "text": [
      "WebSocket server started on ws://0.0.0.0:12345\n",
      "Received message: Client connected and ready to receive data\n"
     ]
    },
    {
     "name": "stderr",
     "output_type": "stream",
     "text": [
      "connection handler failed\n",
      "Traceback (most recent call last):\n",
      "  File \"/root/tradin_sim/lib/python3.9/site-packages/websockets/legacy/server.py\", line 245, in handler\n",
      "    await self.ws_handler(self)\n",
      "  File \"/root/tradin_sim/lib/python3.9/site-packages/websockets/legacy/server.py\", line 1188, in _ws_handler\n",
      "    return await cast(\n",
      "  File \"/tmp/ipykernel_2270887/1218016257.py\", line 6, in websocket_handler\n",
      "    message = await websocket.recv()\n",
      "  File \"/root/tradin_sim/lib/python3.9/site-packages/websockets/legacy/protocol.py\", line 564, in recv\n",
      "    await self.ensure_open()\n",
      "  File \"/root/tradin_sim/lib/python3.9/site-packages/websockets/legacy/protocol.py\", line 940, in ensure_open\n",
      "    raise self.connection_closed_exc()\n",
      "websockets.exceptions.ConnectionClosedOK: received 1000 (OK); then sent 1000 (OK)\n"
     ]
    }
   ],
   "source": [
    "import asyncio\n",
    "import websockets\n",
    "\n",
    "async def websocket_handler(websocket, path):\n",
    "    while True:\n",
    "        message = await websocket.recv()\n",
    "        print(f\"Received message: {message}\")\n",
    "        await websocket.send(f\"Echo: {message}\")\n",
    "\n",
    "async def main():\n",
    "    # Start the WebSocket server on all network interfaces (0.0.0.0)\n",
    "    async with websockets.serve(websocket_handler, \"0.0.0.0\", 12345):\n",
    "        print(\"WebSocket server started on ws://0.0.0.0:12345\")\n",
    "        await asyncio.Future()  # Keeps the server running forever\n",
    "\n",
    "# If you're running this in an environment where an event loop is already running\n",
    "def run_server():\n",
    "    try:\n",
    "        loop = asyncio.get_running_loop()\n",
    "    except RuntimeError:\n",
    "        # No event loop is running, so we create a new one\n",
    "        loop = asyncio.new_event_loop()\n",
    "        asyncio.set_event_loop(loop)\n",
    "    \n",
    "    if loop.is_running():\n",
    "        # If the event loop is already running (like in Jupyter), create a new task for the server\n",
    "        loop.create_task(main())\n",
    "    else:\n",
    "        # If no event loop is running, start a new one\n",
    "        loop.run_until_complete(main())\n",
    "\n",
    "if __name__ == \"__main__\":\n",
    "    run_server()\n"
   ]
  },
  {
   "cell_type": "code",
   "execution_count": null,
   "id": "7fb5132e-6010-44fc-8a65-5ada312fa719",
   "metadata": {},
   "outputs": [],
   "source": []
  }
 ],
 "metadata": {
  "kernelspec": {
   "display_name": "Python (trading_producer)",
   "language": "python",
   "name": "myenv"
  },
  "language_info": {
   "codemirror_mode": {
    "name": "ipython",
    "version": 3
   },
   "file_extension": ".py",
   "mimetype": "text/x-python",
   "name": "python",
   "nbconvert_exporter": "python",
   "pygments_lexer": "ipython3",
   "version": "3.9.20"
  }
 },
 "nbformat": 4,
 "nbformat_minor": 5
}
