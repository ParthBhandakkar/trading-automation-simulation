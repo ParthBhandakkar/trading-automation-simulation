{
 "cells": [
  {
   "cell_type": "code",
   "execution_count": 18,
   "id": "04230f25",
   "metadata": {},
   "outputs": [],
   "source": [
    "import os, time\n",
    "from influxdb_client import InfluxDBClient, Point\n",
    "import random\n",
    "from kafka import KafkaProducer, KafkaConsumer\n",
    "import json\n",
    "import pandas as pd\n",
    "import json\n",
    "import datetime as dt\n",
    "from time import sleep\n",
    "from confluent_kafka import Producer"
   ]
  },
  {
   "cell_type": "code",
   "execution_count": 19,
   "id": "c3643170",
   "metadata": {},
   "outputs": [],
   "source": [
    "token = \"pNa6-UfsFJUYd--ryyzXGDUk1o7Ei9BR1TKqO43WJ50uCmuJ30WDAHXk47Nc6vK8wALkJWejAJg09f-0nOE3cg==\"\n",
    "org = \"Devnullx\"\n",
    "host = \"http://165.232.189.85:8086/\"\n",
    "bucket = \"trade_sim2\" \n",
    "client = InfluxDBClient(url=host, token=token, org=org)"
   ]
  },
  {
   "cell_type": "code",
   "execution_count": 20,
   "id": "63452ee6",
   "metadata": {},
   "outputs": [],
   "source": [
    "query = '''from(bucket: \"trade_sim2\")\n",
    "  |> range(start: -1m)\n",
    "  |> filter(fn: (r) => r[\"_measurement\"] == \"trade\")\n",
    "  |> filter(fn: (r) => r[\"_field\"] == \"Close\" or r[\"_field\"] == \"High\" or r[\"_field\"] == \"Low\" or r[\"_field\"] == \"Open\" or r[\"_field\"] == \"Volume\" or r[\"_field\"] == \"buy_money\" or r[\"_field\"] == \"buy_quant\" or r[\"_field\"] == \"money_earned_user\" or r[\"_field\"] == \"money_earned_platform\" or r[\"_field\"] == \"open_time\" or r[\"_field\"] == \"sell_money\" or r[\"_field\"] == \"sell_quant\" or r[\"_field\"] == \"total_money_invested\" or r[\"_field\"] == \"user_loser\" or r[\"_field\"] == \"user_profitable\")\n",
    "  |> aggregateWindow(every: 1m, fn: mean, createEmpty: false)\n",
    "  |> yield(name: \"mean\")'''"
   ]
  },
  {
   "cell_type": "code",
   "execution_count": 21,
   "id": "2c8ab63f-6b26-4552-b921-6be43661ed34",
   "metadata": {},
   "outputs": [],
   "source": [
    "query_api = client.query_api()"
   ]
  },
  {
   "cell_type": "code",
   "execution_count": null,
   "id": "eddf8eac",
   "metadata": {
    "scrolled": true
   },
   "outputs": [
    {
     "name": "stdout",
     "output_type": "stream",
     "text": [
      "Sent record to topic at time 2024-09-18 18:14:12.508016\n",
      "Sent record to topic at time 2024-09-18 18:15:12.677064\n",
      "Sent record to topic at time 2024-09-18 18:16:12.870283\n",
      "Sent record to topic at time 2024-09-18 18:17:13.063297\n",
      "Sent record to topic at time 2024-09-18 18:18:13.255273\n",
      "Sent record to topic at time 2024-09-18 18:19:13.436648\n"
     ]
    }
   ],
   "source": [
    "while True:\n",
    "    tables = query_api.query(query=query, org=org)\n",
    "    records = []\n",
    "    for table in tables:\n",
    "        for record in table.records:\n",
    "            records.append({\n",
    "                'time': record.get_time(),\n",
    "                '_value': record.get_value(),\n",
    "                '_field': record.get_field(),\n",
    "                '_measurement': record.get_measurement(),\n",
    "                'tags': record.values  # Extract tag values if needed\n",
    "            })\n",
    "\n",
    "    df = pd.DataFrame(records)\n",
    "    df = df.sort_values(by=\"time\")\n",
    "\n",
    "    df = df.drop([\"time\"],axis = 1)\n",
    "    producer = KafkaProducer(bootstrap_servers=['139.59.1.5:9092'])\n",
    "    key = str(0).encode()  # Here, '0' is just an example; it can be any unique identifier\n",
    "    df_dict = df.to_dict()\n",
    "    data = json.dumps(df_dict, default=str).encode('utf-8')\n",
    "    producer.send(topic=\"test-topic\", key=key, value=data)\n",
    "    print(f'Sent record to topic at time {dt.datetime.utcnow()}')\n",
    "    sleep(60)"
   ]
  },
  {
   "cell_type": "code",
   "execution_count": null,
   "id": "783585f6-72f1-4e43-b533-81e9f3dd06a1",
   "metadata": {},
   "outputs": [],
   "source": []
  }
 ],
 "metadata": {
  "kernelspec": {
   "display_name": "Python (trading_producer)",
   "language": "python",
   "name": "myenv"
  },
  "language_info": {
   "codemirror_mode": {
    "name": "ipython",
    "version": 3
   },
   "file_extension": ".py",
   "mimetype": "text/x-python",
   "name": "python",
   "nbconvert_exporter": "python",
   "pygments_lexer": "ipython3",
   "version": "3.9.20"
  }
 },
 "nbformat": 4,
 "nbformat_minor": 5
}
