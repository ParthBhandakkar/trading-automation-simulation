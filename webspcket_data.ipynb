{
 "cells": [
  {
   "cell_type": "code",
   "execution_count": null,
   "id": "51151a7d",
   "metadata": {},
   "outputs": [],
   "source": [
    "import nest_asyncio\n",
    "nest_asyncio.apply()\n",
    "\n",
    "# Your existing imports\n",
    "import asyncio\n",
    "import websockets\n",
    "from aiokafka import AIOKafkaConsumer\n",
    "\n",
    "KAFKA_BOOTSTRAP_SERVERS = ['165.232.189.85:9092']\n",
    "KAFKA_TOPIC = 'trade_data'\n",
    "\n",
    "async def consume_kafka(websocket, path):\n",
    "    consumer = AIOKafkaConsumer(\n",
    "        KAFKA_TOPIC,\n",
    "        bootstrap_servers=KAFKA_BOOTSTRAP_SERVERS,\n",
    "        auto_offset_reset='earliest',\n",
    "        enable_auto_commit=True,\n",
    "    )\n",
    "\n",
    "    await consumer.start()\n",
    "    try:\n",
    "        async for message in consumer:\n",
    "            await websocket.send(message.value.decode('utf-8'))\n",
    "    finally:\n",
    "        await consumer.stop()\n",
    "\n",
    "async def main():\n",
    "    async with websockets.serve(consume_kafka, '0.0.0.0', 6789):\n",
    "        await asyncio.Future()  # Run forever\n",
    "\n",
    "if __name__ == '__main__':\n",
    "    asyncio.run(main())\n"
   ]
  },
  {
   "cell_type": "code",
   "execution_count": null,
   "id": "13e1f8cf",
   "metadata": {},
   "outputs": [],
   "source": []
  }
 ],
 "metadata": {
  "kernelspec": {
   "display_name": "Python 3 (ipykernel)",
   "language": "python",
   "name": "python3"
  },
  "language_info": {
   "codemirror_mode": {
    "name": "ipython",
    "version": 3
   },
   "file_extension": ".py",
   "mimetype": "text/x-python",
   "name": "python",
   "nbconvert_exporter": "python",
   "pygments_lexer": "ipython3",
   "version": "3.9.20"
  }
 },
 "nbformat": 4,
 "nbformat_minor": 5
}
