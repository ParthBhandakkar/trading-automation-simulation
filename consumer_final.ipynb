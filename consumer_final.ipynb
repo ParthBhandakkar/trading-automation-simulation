{
 "cells": [
  {
   "cell_type": "code",
   "execution_count": 13,
   "id": "65df938b-5f20-434c-a941-27ebb9da26e4",
   "metadata": {},
   "outputs": [
    {
     "name": "stdout",
     "output_type": "stream",
     "text": [
      "          _value                 _field _measurement  \\\n",
      "0   1.196961e+03                  Close        trade   \n",
      "1   1.197761e+03                   High        trade   \n",
      "2   1.196482e+03                    Low        trade   \n",
      "3   1.197011e+03                   Open        trade   \n",
      "4   1.140261e+00                 Volume        trade   \n",
      "5   4.590002e+06              buy_money        trade   \n",
      "6   5.050000e+01              buy_quant        trade   \n",
      "7   4.848726e+06  money_earned_platform        trade   \n",
      "8   4.306888e+06      money_earned_user        trade   \n",
      "9   1.726682e+09              open_time        trade   \n",
      "10  4.565612e+06             sell_money        trade   \n",
      "11  4.950000e+01             sell_quant        trade   \n",
      "12  9.155614e+06   total_money_invested        trade   \n",
      "13  5.050000e+01             user_loser        trade   \n",
      "14  4.950000e+01        user_profitable        trade   \n",
      "\n",
      "                                                 tags  \n",
      "0   {'result': 'mean', 'table': 0, '_start': '2024...  \n",
      "1   {'result': 'mean', 'table': 1, '_start': '2024...  \n",
      "2   {'result': 'mean', 'table': 2, '_start': '2024...  \n",
      "3   {'result': 'mean', 'table': 3, '_start': '2024...  \n",
      "4   {'result': 'mean', 'table': 4, '_start': '2024...  \n",
      "5   {'result': 'mean', 'table': 5, '_start': '2024...  \n",
      "6   {'result': 'mean', 'table': 6, '_start': '2024...  \n",
      "7   {'result': 'mean', 'table': 7, '_start': '2024...  \n",
      "8   {'result': 'mean', 'table': 8, '_start': '2024...  \n",
      "9   {'result': 'mean', 'table': 9, '_start': '2024...  \n",
      "10  {'result': 'mean', 'table': 10, '_start': '202...  \n",
      "11  {'result': 'mean', 'table': 11, '_start': '202...  \n",
      "12  {'result': 'mean', 'table': 12, '_start': '202...  \n",
      "13  {'result': 'mean', 'table': 13, '_start': '202...  \n",
      "14  {'result': 'mean', 'table': 14, '_start': '202...  \n"
     ]
    }
   ],
   "source": [
    "from kafka import KafkaConsumer\n",
    "import json\n",
    "import pandas as pd\n",
    "# Consume all the messages from the topic but do not mark them as 'read' (enable_auto_commit=False)\n",
    "# so that we can re-read them as often as we like.\n",
    "consumer = KafkaConsumer('test',\n",
    "                         group_id='test-consumer-group',\n",
    "                         bootstrap_servers=['139.59.1.5:9092'],\n",
    "                         value_deserializer=lambda m: json.loads(m.decode('utf-8')),\n",
    "                         auto_offset_reset='earliest',\n",
    "                         enable_auto_commit=False)\n",
    "for message in consumer:\n",
    "    mframe = pd.DataFrame(message.value)\n",
    "\n",
    "    # Multiply the quantity by the price and store in a new \"revenue\" colu\n",
    "    print(mframe)\n",
    "    break\n",
    "#print(mframe.iloc[1])"
   ]
  },
  {
   "cell_type": "code",
   "execution_count": null,
   "id": "488c5cd6-1605-46a8-836c-bb9e210603e7",
   "metadata": {},
   "outputs": [],
   "source": []
  }
 ],
 "metadata": {
  "kernelspec": {
   "display_name": "Python (trading_producer)",
   "language": "python",
   "name": "myenv"
  },
  "language_info": {
   "codemirror_mode": {
    "name": "ipython",
    "version": 3
   },
   "file_extension": ".py",
   "mimetype": "text/x-python",
   "name": "python",
   "nbconvert_exporter": "python",
   "pygments_lexer": "ipython3",
   "version": "3.9.20"
  }
 },
 "nbformat": 4,
 "nbformat_minor": 5
}
