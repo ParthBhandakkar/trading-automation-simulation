{
 "cells": [
  {
   "cell_type": "code",
   "execution_count": 1,
   "id": "a6add485-1469-498e-aa70-43b9abeb9003",
   "metadata": {},
   "outputs": [
    {
     "name": "stdout",
     "output_type": "stream",
     "text": [
      "No trade data found.\n"
     ]
    }
   ],
   "source": [
    "from influxdb_client import InfluxDBClient\n",
    "\n",
    "# Define your InfluxDB connection parameters\n",
    "INFLUXDB_TOKEN = \"pZbpSxnkaBCa-tCQSo1p3rLv3gw6MpS1KglhS4Sv4UOANEsl1A8ngHrb9TXBg2exWgHlbczGXnvBx63sG5V2oQ==\"\n",
    "url = \"http://206.189.139.164:8086/\"\n",
    "org = \"test\"\n",
    "bucket = \"wallet\"\n",
    "\n",
    "# Function to fetch trade type, trade ID, and amount\n",
    "def fetch_trade_data(trade_id):\n",
    "    try:\n",
    "        # Initialize InfluxDB client\n",
    "        client = InfluxDBClient(url=url, token=INFLUXDB_TOKEN, org=org)\n",
    "\n",
    "        # Query API\n",
    "        query_api = client.query_api()\n",
    "\n",
    "        # Define the Flux query to fetch trade type, trade ID, and amount from the InfluxDB bucket\n",
    "        flux_query = f'''\n",
    "        from(bucket: \"{bucket}\")\n",
    "          |> range(start: -30d) // Adjust the time range if necessary\n",
    "          |> filter(fn: (r) => r._measurement == \"wallet\")\n",
    "          |> filter(fn: (r) => r.tradeId == \"{trade_id}\") // Filter by trade ID\n",
    "          |> filter(fn: (r) => r._field == \"amount\" or r._field == \"direction\") // Fetch amount and trade type\n",
    "          |> pivot(rowKey:[\"_time\"], columnKey: [\"_field\"], valueColumn: \"_value\")\n",
    "          |> keep(columns: [\"_time\", \"tradeId\", \"direction\", \"amount\"]) // Keep only necessary columns\n",
    "        '''\n",
    "\n",
    "        # Execute the query and get the results\n",
    "        result = query_api.query(org=org, query=flux_query)\n",
    "\n",
    "        # Process the results\n",
    "        trades = []\n",
    "        for table in result:\n",
    "            for record in table.records:\n",
    "                trade_data = {\n",
    "                    \"time\": record.get_time(),\n",
    "                    \"tradeId\": record.values.get(\"tradeId\"),\n",
    "                    \"direction\": record.values.get(\"direction\"),  # Trade type: buy/sell\n",
    "                    \"amount\": record.values.get(\"amount\"),  # Amount involved in the trade\n",
    "                }\n",
    "                trades.append(trade_data)\n",
    "\n",
    "        # Return fetched trades\n",
    "        return trades\n",
    "\n",
    "    except Exception as e:\n",
    "        print(f\"Error fetching trade data: {e}\")\n",
    "\n",
    "# Example usage:\n",
    "trade_id = \"example_trade_id\"  # Replace with your trade ID\n",
    "trades = fetch_trade_data(trade_id)\n",
    "\n",
    "# Display the fetched trade data\n",
    "if trades:\n",
    "    for trade in trades:\n",
    "        print(f\"Trade ID: {trade['tradeId']}, Type: {trade['direction']}, Amount: {trade['amount']}, Time: {trade['time']}\")\n",
    "else:\n",
    "    print(\"No trade data found.\")\n"
   ]
  },
  {
   "cell_type": "code",
   "execution_count": null,
   "id": "85c9f688-2f35-4c9e-9c75-07b2843ef71f",
   "metadata": {},
   "outputs": [],
   "source": []
  }
 ],
 "metadata": {
  "kernelspec": {
   "display_name": "Python (trading_producer)",
   "language": "python",
   "name": "myenv"
  },
  "language_info": {
   "codemirror_mode": {
    "name": "ipython",
    "version": 3
   },
   "file_extension": ".py",
   "mimetype": "text/x-python",
   "name": "python",
   "nbconvert_exporter": "python",
   "pygments_lexer": "ipython3",
   "version": "3.9.20"
  }
 },
 "nbformat": 4,
 "nbformat_minor": 5
}
